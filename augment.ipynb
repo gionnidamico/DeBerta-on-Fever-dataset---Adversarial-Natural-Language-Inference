{
 "cells": [
  {
   "cell_type": "code",
   "execution_count": 11,
   "metadata": {},
   "outputs": [],
   "source": [
    "import pandas as pd\n",
    "\n",
    "SENTENCES_TO_KEEP = 2\n",
    "OUTPUT_PATH = 'Augmented Datasets/'"
   ]
  },
  {
   "cell_type": "code",
   "execution_count": 12,
   "metadata": {},
   "outputs": [],
   "source": [
    "from datasets import load_dataset\n",
    "\n",
    "fever_plus = load_dataset(\"tommasobonomo/sem_augmented_fever_nli\")"
   ]
  },
  {
   "cell_type": "code",
   "execution_count": 13,
   "metadata": {},
   "outputs": [
    {
     "data": {
      "text/plain": [
       "Dataset({\n",
       "    features: ['id', 'premise', 'hypothesis', 'label', 'wsd', 'srl'],\n",
       "    num_rows: 51086\n",
       "})"
      ]
     },
     "execution_count": 13,
     "metadata": {},
     "output_type": "execute_result"
    }
   ],
   "source": [
    "fever_plus[\"train\"]"
   ]
  },
  {
   "cell_type": "code",
   "execution_count": 14,
   "metadata": {},
   "outputs": [
    {
     "data": {
      "text/plain": [
       "'roman'"
      ]
     },
     "execution_count": 14,
     "metadata": {},
     "output_type": "execute_result"
    }
   ],
   "source": [
    "i = 0\n",
    "fever_plus[\"train\"][i]['wsd']['premise'][0]['lemma']\n",
    "# for i in range(len(fever_plus[\"train\"])):\n",
    "#     print(get_first_N_sentences(fever_plus[\"train\"]['premise'][i], 1))"
   ]
  },
  {
   "cell_type": "code",
   "execution_count": 15,
   "metadata": {},
   "outputs": [
    {
     "name": "stdout",
     "output_type": "stream",
     "text": [
      "Roman Atwood . He is best known for his vlogs , where he posts updates about his life on a daily basis . His vlogging channel , `` RomanAtwoodVlogs '' , has a total of 3.3 billion views and 11.9 million subscribers . He also has another YouTube channel called `` RomanAtwood '' , where he posts pranks .\n",
      "Boston Celtics . The Celtics play their home games at the TD Garden , which they share with the National Hockey League ( NHL ) 's Boston Bruins .\n",
      "The Hunger Games is a 2012 American dystopian science fiction adventure film directed by Gary Ross and based on the novel of the same name by Suzanne Collins . The film stars Jennifer Lawrence , Josh Hutcherson , Liam Hemsworth , Woody Harrelson , Elizabeth Banks , Lenny Kravitz , Stanley Tucci , and Donald Sutherland .\n",
      "Ryan John Seacrest ( born December 24 , 1974 ) is an American radio personality , television host and producer . Seacrest began co-hosting Live with Kelly and Ryan on a permanent basis May 1 , 2017 . He received Emmy Award nominations for American Idol , and won an Emmy for producing Jamie Oliver 's Food Revolution .\n",
      "Stranger than Fiction is a 2006 American fantasy comedy-drama film directed by Marc Forster , produced by Lindsay Doran , and written by Zach Helm .\n",
      "Selena Quintanilla-Pérez ( [ seˈlena kintaˈniʝa ˈpeɾes ] or [ seˈlena kintaˈniʎa ˈpeɾeθ ] April 16 , 1971 -- March 31 , 1995 ) was an American singer , songwriter , spokesperson , model , actress , and fashion designer . ( 1993 ) won Best Mexican/American Album at the 1994 Grammy Awards , becoming the first recording by a Tejano artist to do so . In 1994 , Selena released Amor Prohibido , which became one of the best-selling Latin albums in the United States . Her posthumous crossover album , Dreaming of You ( 1995 ) , debuted atop the Billboard 200 , making Selena the first Latin artist to accomplish this feat .\n",
      "Selena Quintanilla-Pérez ( [ seˈlena kintaˈniʝa ˈpeɾes ] or [ seˈlena kintaˈniʎa ˈpeɾeθ ] April 16 , 1971 -- March 31 , 1995 ) was an American singer , songwriter , spokesperson , model , actress , and fashion designer . However , her popularity grew after she won the Tejano Music Award for Female Vocalist of the Year in 1987 , which she won nine consecutive times .\n",
      "Selena Quintanilla-Pérez ( [ seˈlena kintaˈniʝa ˈpeɾes ] or [ seˈlena kintaˈniʎa ˈpeɾeθ ] April 16 , 1971 -- March 31 , 1995 ) was an American singer , songwriter , spokesperson , model , actress , and fashion designer .\n",
      "Selena . Selena signed with EMI Latin in 1989 and released her self-titled debut album the same year , while her brother became her principal music producer and songwriter . One of its singles , `` Como La Flor '' , became one of her most popular signature songs . ( 1993 ) won Best Mexican/American Album at the 1994 Grammy Awards , becoming the first recording by a Tejano artist to do so . In 1994 , Selena released Amor Prohibido , which became one of the best-selling Latin albums in the United States . Her posthumous crossover album , Dreaming of You ( 1995 ) , debuted atop the Billboard 200 , making Selena the first Latin artist to accomplish this feat .\n",
      "John Wick: Chapter 2 . The film premiered in Los Angeles on January 30 , 2017 , and was theatrically released in the United States on February 10 , 2017 .\n",
      "Afghanistan . The land also served as the source from which the Kushans , Hephthalites , Samanids , Saffarids , Ghaznavids , Ghorids , Khiljis , Mughals , Hotaks , Durranis , and others have risen to form major empires .\n",
      "Tupac Amaru Shakur ( [ ˈtuːpɑːk_ʃəˈkʊər ] ; born Lesane Parish Crooks ; June 16 , 1971September 13 , 1996 ) , also known by his stage names 2Pac , Makaveli , and Pac , was an American rapper , record producer , actor , and poet .\n",
      "Whoopi Goldberg . From 1998 to 2002 , she was co-producer of the television game show Hollywood Squares .\n",
      "Grace Jones ( born 19 May 1948 ) is a Jamaican born singer , songwriter , lyricist , supermodel , record producer , and actress .\n",
      "Lisbon ( [ ˈlɪzbən ] Lisboa , [ liʒˈβoɐ ] ) is the capital and the largest city of Portugal , with a population of 552,700 within its administrative limits in an area of 100.05 km ² .\n",
      "Newfoundland and Labrador . The province is Canada 's most linguistically homogeneous , with 97.6 % of residents reporting English ( Newfoundland English ) as their mother tongue in the 2006 census .\n",
      "Sophie Turner ( born 21 February 1996 ) is an English actress . Sophie Turner ( born 30 April 1984 ) is an Australian model , reality television personality and lawyer who first came to prominence as a contestant on the Australian television series Search for a Supermodel .\n",
      "The Smurfs is a 2011 American 3D live-action/computer-animated comedy film loosely based on the comic book series of the same name created by the Belgian comics artist Peyo . After having the release date changed three times , Columbia Pictures released The Smurfs on July 29 , 2011 . The Smurfs reached the $ 500 million milestone in the weekend of September 23 -- 25 , 2011 .\n",
      "Jimmy Carter . In response to the invasion , Carter ended détente , escalated the Cold War , and led the international boycott of the 1980 Summer Olympics in Moscow .\n",
      "Hacksaw Ridge . It was released in the United States on November 4 , 2016 , received positive reviews and grossed $ 175.3 million worldwide .\n",
      "Michael Fassbender ( born 2 April 1977 ) is a German-born Irish actor . He first came to prominence for his role as IRA activist Bobby Sands in Hunger ( 2008 ) , for which he won a British Independent Film Award . Subsequent roles include in the independent film Fish Tank ( 2009 ) , as a Royal Marines lieutenant in Inglourious Basterds ( 2009 ) , as Edward Rochester in the 2011 film adaptation of Jane Eyre , as Carl Jung in A Dangerous Method ( 2011 ) , as a sentient android in Prometheus ( 2012 ) and its sequel , Alien : Covenant ( 2017 ) , and in the musical comedy-drama Frank ( 2014 ) as an eccentric musician loosely inspired by Frank Sidebottom . Also in 2011 , Fassbender 's performance as a sex addict in Shame earned him the Volpi Cup for Best Actor at the Venice Film Festival and was nominated for Golden Globe and BAFTA Awards .\n",
      "Michael Fassbender . His feature film debut was in the fantasy war epic 300 ( 2007 ) as a Spartan warrior ; his earlier roles included various stage productions , as well as starring roles on television such as in the HBO miniseries Band of Brothers ( 2001 ) and the Sky One fantasy drama Hex ( 2004 -- 05 ) . Also in 2011 , Fassbender 's performance as a sex addict in Shame earned him the Volpi Cup for Best Actor at the Venice Film Festival and was nominated for Golden Globe and BAFTA Awards .\n",
      "Uzbekistan . Uzbekistan is a member of the Commonwealth of Independent States ( CIS ) , Organization for Security and Co-operation in Europe ( OSCE ) , UN , and the SCO .\n",
      "Pawel Tomasz Wasilewski ( born July 23 , 1982 ) , known professionally as Paul Wesley , is an American actor , director , and producer .\n",
      "Chester Bennington . He is best known as the lead vocalist of rock bands Linkin Park , Dead by Sunrise , and live rock cover band Bucket of Weenies . Bennington was the lead vocalist for Stone Temple Pilots from 2013 to 2015 .\n",
      "Chester Charles Bennington ( born March 20 , 1976 ) is an American musician , singer , songwriter and actor .\n",
      "Chester Charles Bennington ( born March 20 , 1976 ) is an American musician , singer , songwriter and actor . He was originally the lead vocalist for Sean Dowdell And His Friends ? High Rise (EP) . It instead features guest musician Chester Bennington of Linkin Park on lead vocals , and the band is credited on the EP as Stone Temple Pilots with Chester Bennington .\n",
      "Brian Douglas Wilson ( born June 20 , 1942 ) is an American musician , singer , songwriter , and record producer best known for being the multi-tasking leader and co-founder of the rock band the Beach Boys . Pet Sounds is the eleventh studio album by American rock band the Beach Boys , released on May 16 , 1966 .\n",
      "Existence of God . Other arguments for the existence of God have been proposed by St. Anselm , who formulated the first ontological argument ; Ibn Rushd ( Averroes ) and Thomas Aquinas , who presented their own versions of the cosmological argument ( the kalam argument and the first way , respectively ) ; René Descartes , who said that the existence of a benevolent God is logically necessary for the evidence of the senses to be meaningful ; and Immanuel Kant , who argued that the existence of God can be deduced from the existence of good . The Quinque viæ ( Latin , usually translated as `` Five Ways '' or `` Five Proofs '' ) are five logical arguments regarding the existence of God summarized by the 13th-century Catholic philosopher and theologian St. Thomas Aquinas in his book Summa Theologica .\n",
      "Ahmet Ertegun Tribute Concert . The headline act was the English rock band , Led Zeppelin , who performed their first full-length concert since the death of drummer John Bonham in 1980 , in a one-off reunion . Led Zeppelin . The most successful of these was the 2007 Ahmet Ertegun Tribute Concert in London , with Jason Bonham taking his late father 's place behind the drums .\n",
      "Led Zeppelin . The latter half of their career saw a series of record-breaking tours that earned the group a reputation for excess and debauchery . From September 1968 until the summer of 1980 , English rock band Led Zeppelin were the world 's most popular live music attraction , performing hundreds of sold-out concerts around the world .\n",
      "Richard St John Harris ( 1 October 1930 -- 25 October 2002 ) was an Irish actor and singer .\n",
      "The Fosters is an American family drama television series created by Peter Paige and Bradley Bredeweg which first premiered in the United States on June 3 , 2013 on the Freeform ( previously named ABC Family ) television network . The first season of The Fosters received generally favorable reviews from critics and also garnered particular acclaim for its portrayal of LGBT themes .\n",
      "Filmfare is an English-language , tabloid-sized magazine about Hindi-language cinema , popularly known as Bollywood .\n",
      "Buckingham Palace . The original early 19th-century interior designs , many of which survive , include widespread use of brightly coloured scagliola and blue and pink lapis , on the advice of Sir Charles Long .\n",
      "Liverpool F.C. . Liverpool was the ninth highest-earning football club in the world for 2014 -- 15 , with an annual revenue of $ 391 million , and the world 's eighth most valuable football club in 2016 , valued at $ 1.55 billion .\n",
      "Land Rover . It developed into a brand encompassing a range of four-wheel-drive models , including the Defender , Discovery , Freelander , Range Rover , Range Rover Sport , and Range Rover Evoque . The carmaker said around 1,000 academics and engineers would work there and that construction would start in 2014 .\n",
      "Martin Charles Scorsese ( [ skɔːrˈsɛsi ] [ skorˈseːze ] ; born November 17 , 1942 ) is an American director , producer , screenwriter , and film historian , whose career spans more than 50 years .\n",
      "On the Road (film) . The film received mixed early reviews after it premiered at the film festival .\n",
      "On the Road (film) . The film also premiered at the 2012 Toronto International Film Festival in September .\n",
      "Peter Davison ( born Peter Malcolm Gordon Moffett on 13 April 1951 ) is an English actor with many credits in television dramas and sitcoms . He became famous as Tristan Farnon in the BBC 's television adaptation of James Herriot 's All Creatures Great and Small stories . His subsequent starring roles included the sitcoms Holding the Fort and Sink or Swim , the fifth incarnation of the Doctor in Doctor Who , Dr. Stephen Daker in A Very Peculiar Practice and Albert Campion in Campion . Sink or Swim is a BBC TV sitcom from the 1980s with Peter Davison as the lead character Brian Webber .\n",
      "21 Jump Street (film) . It was released theatrically on March 16 , 2012 , by Columbia Pictures and Metro-Goldwyn-Mayer and grossed $ 201 million .\n",
      "Deadpool (film) . It is the eighth installment and a spin-off in the X-Men film series , and stars Ryan Reynolds as the titular character , as well as Morena Baccarin , Ed Skrein , T. J. Miller , Gina Carano , Leslie Uggams , Brianna Hildebrand , and Stefan Kapičić . T. J. Miller . Miller has also performed in such films as Cloverfield ( 2008 ) , She 's Out of My League ( 2010 ) , Yogi Bear 3D ( 2010 ) , How to Train Your Dragon ( 2010 ) , How to Train Your Dragon 2 ( 2014 ) , Transformers : Age of Extinction ( 2014 ) , Big Hero 6 ( 2014 ) , Deadpool ( 2016 ) , and Office Christmas Party ( 2016 ) .\n",
      "Chris Terrio ( born December 31 , 1976 ) is an American screenwriter and film director .\n",
      "Mariah Carey ( born March 27 , 1969 or 1970 ) is an American singer , songwriter , record producer , and actress .\n",
      "Giancarlo Stanton . Stanton graduated from Notre Dame High School , before he was selected by the Marlins in the 2007 MLB draft .\n",
      "Sir Thomas Sean Connery KB ( [ ˈʃɔːn_ˈkɒnəri ] born 25 August 1930 ) is a retired Scottish actor and producer who has won an Academy Award , two BAFTA Awards ( one of them being a BAFTA Academy Fellowship Award ) and three Golden Globes ( including the Cecil B. DeMille Award and a Henrietta Award ) . In 1988 , Connery won the Academy Award for Best Supporting Actor for his role in The Untouchables .\n",
      "Overwatch is a team-based online multiplayer first-person shooter video game developed and published by Blizzard Entertainment . Overwatch assigns players into two teams of six , with each player selecting one of 24 pre-defined characters , called heroes , each with unique movement , attributes , and abilities , whose roles are divided into four categories : Offense , Defense , Tank , and Support .\n",
      "The British Broadcasting Corporation ( BBC ) is a British public service broadcaster headquartered at Broadcasting House in London . Downton Abbey is a historical period drama television series created by Julian Fellowes and co-produced by Carnival Films and Masterpiece . Lily James . James began her professional acting career as Ethel Brown in the 2010 BBC production Just William . She began to appear in Hollywood films in 2012 , with roles in Wrath of the Titans and Fast Girls , and was seen in further television roles , including that of Countess Natasha Rostova in the 2016 BBC historical drama series War & Peace . War & Peace is a British-American historical period drama television serial first broadcast on BBC One on 3 January 2016 .\n",
      "The British Broadcasting Corporation ( BBC ) is a British public service broadcaster headquartered at Broadcasting House in London . Downton Abbey is a historical period drama television series created by Julian Fellowes and co-produced by Carnival Films and Masterpiece . Just William is a television series first broadcast on BBC One in December 2010 . Lily James . James began her professional acting career as Ethel Brown in the 2010 BBC production Just William .\n",
      "International relations . In both cases , the field studies relationships between political entities ( polities ) such as states , sovereign states , empires , inter-governmental organizations ( IGOs ) , international non-governmental organizations ( INs ) , non-governmental organizations ( NGOs ) , and multinational corporations ( MNCs ) , and the wider world-systems produced by this interaction . International relations is an academic and a public policy field , and so can be positive and normative , because it analyzes and formulates the foreign policy of a given State . The scope of international relations comprehends globalization , diplomatic relations , state sovereignty , international security , ecological sustainability , nuclear proliferation , nationalism , economic development , global finance , as well as terrorism and organized crime , human security , foreign interventionism , and human rights , as well , as , more recently , comparative religion .\n",
      "International relations ( IR ) or international affairs , depending on academic institution , is either a field of political science , an interdisciplinary academic field similar to global studies , or an entirely independent academic discipline in which students take a variety of internationally focused courses in social science and humanities disciplines . In both cases , the field studies relationships between political entities ( polities ) such as states , sovereign states , empires , inter-governmental organizations ( IGOs ) , international non-governmental organizations ( INs ) , non-governmental organizations ( NGOs ) , and multinational corporations ( MNCs ) , and the wider world-systems produced by this interaction . The scope of international relations comprehends globalization , diplomatic relations , state sovereignty , international security , ecological sustainability , nuclear proliferation , nationalism , economic development , global finance , as well as terrorism and organized crime , human security , foreign interventionism , and human rights , as well , as , more recently , comparative religion .\n",
      "Régine Chassagne ( [ ʁeˈʒin ʃaˈsaːɲ ] ; born 19 August 1976 ) is a Canadian multi-instrumentalist musician , singer and songwriter , and is a founding member of the band Arcade Fire .\n",
      "John McCain . He was first elected to the U.S. Senate in 1986 , winning re-election easily five times , most recently in 2016 . By 2013 , however , he had become a key figure in the Senate for negotiating deals on certain issues in an otherwise partisan environment . The Committee on Armed Services ( sometimes abbreviated SASC for Senate Armed Services Committee on its Web site ) is a committee of the United States Senate empowered with legislative oversight of the nation 's military , including the Department of Defense , military research and development , nuclear energy ( as pertaining to national security ) , benefits for members of the military , the Selective Service System and other matters related to defense policy .\n",
      "John Sidney McCain III ( born August 29 , 1936 ) is an American politician who currently serves as the senior United States Senator from Arizona . He was the Republican nominee for the 2008 U.S. presidential election . He retired from the Navy as a captain in 1981 and moved to Arizona , where he entered politics . He was first elected to the U.S. Senate in 1986 , winning re-election easily five times , most recently in 2016 . McCain ran for the Republican nomination in 2000 but lost a heated primary season contest to George W. Bush of Texas .\n",
      "John McCain . Elected to the U.S. House of Representatives in 1982 , McCain served two terms . The Committee on Armed Services ( sometimes abbreviated SASC for Senate Armed Services Committee on its Web site ) is a committee of the United States Senate empowered with legislative oversight of the nation 's military , including the Department of Defense , military research and development , nuclear energy ( as pertaining to national security ) , benefits for members of the military , the Selective Service System and other matters related to defense policy .\n",
      "Planet of the Apes (1968 film) . The script was originally written by Rod Serling , but underwent many rewrites before filming eventually began .\n",
      "Star vs. the Forces of Evil . On February 12 , 2015 , Disney renewed the series for a second season prior to its premiere on Disney XD .\n",
      "Star vs. the Forces of Evil is an American animated television series produced by Disney Television Animation . Nefcy became the second woman to create an animated series for Disney Television Animation ( the first being Sue Rose , who created Pepper Ann ) , and the first woman to create a Disney XD series . The second season premiered on July 11 , 2016 .\n",
      "Star vs. the Forces of Evil is an American animated television series produced by Disney Television Animation . The first episode was shown on January 18 , 2015 , on Disney Channel as a special preview , and the series officially premiered on March 30 , 2015 , on Disney XD . Nefcy became the second woman to create an animated series for Disney Television Animation ( the first being Sue Rose , who created Pepper Ann ) , and the first woman to create a Disney XD series . On February 12 , 2015 , Disney renewed the series for a second season prior to its premiere on Disney XD .\n",
      "Paul Walker . Walker gained prominence with breakout roles in coming of age and teen films such as She 's All That and Varsity Blues ( 1999 ) . In 2001 , Walker gained international fame for his portrayal of Brian O'Conner in the street racing action film The Fast and the Furious ( 2001 ) , and would reprise the role in five of the next six installments but died in the middle of the filming of Furious 7 ( 2015 ) . He also starred in films such as Joy Ride ( 2001 ) , Timeline ( 2003 ) , Into the Blue ( 2005 ) , Eight Below , and Running Scared ( 2006 ) . Three films that he was involved in at the time were released posthumously : Hours ( 2013 ) , Brick Mansions ( 2014 ) , and Furious 7 ( 2015 , which he had not completed filming ) .\n",
      "Gilmore Girls is an American comedy-drama television series created by Amy Sherman-Palladino starring Lauren Graham and Alexis Bledel .\n",
      "San Francisco ( initials SF ) ( [ sæn_frənˈsɪskoʊ ] , Spanish for Saint Francis ; Spanish : [ san franˈsisko ] ) , officially the City and County of San Francisco , is the cultural , commercial , and financial center of Northern California . With a density of about 18,581 people per square mile ( 7,174 people per km2 ) , San Francisco is the most densely settled large city ( population greater than 200,000 ) in California and the second-most densely populated major city in the United States after New York City . The city and its surrounding areas are known as the San Francisco Bay Area , and are a part of the larger OMB-designated San Jose-San Francisco-Oakland combined statistical area , the fifth most populous in the nation with an estimated population of 8.7 million .\n",
      "George W. Bush . Nationally , Bush was both one of the most popular and unpopular presidents in history , having received the highest recorded presidential approval ratings in the wake of the September 11 attacks , as well as one of the lowest approval ratings during the 2008 financial crisis .\n",
      "Lily Collins . She went on to study broadcast journalism at the University of Southern California and as a teenager , wrote for Seventeen magazine , Teen Vogue , and The Los Angeles Times . She was named International Model of the Year by Spain 's Glamour magazine after being selected by Chanel to wear one of their gowns at the Hotel de Crillon in 2007 .\n",
      "Naturi Cora Maria Naughton ( born May 20 , 1984 ) is an American actress and singer-songwriter .\n",
      "Generation X , or Gen X , is the demographic cohort following the baby boomers . There are no precise dates for when this cohort starts or ends ; demographers and researchers typically use starting birth years ranging from the early-to-mid 1960s and ending birth years ranging from the late 1970s to early 1980s .\n",
      "Jackie Chan . He is an operatically trained vocalist and is also a Cantopop and Mandopop star , having released a number of albums and sung many of the theme songs for the films in which he has starred .\n",
      "Canada . In 1931 , Canada achieved near total independence from the United Kingdom with the Statute of Westminster 1931 , but at the time , Canada decided to allow the British Parliament to temporarily retain the power to amend Canada 's constitution , on request from the Parliament of Canada . With the Constitution Act 1982 , Canada took over that authority ( as the conclusion of Patriation ) , removing the last remaining ties of legal dependence on the Parliament of the United Kingdom , giving the country full sovereignty . Canada is a federal parliamentary democracy and a constitutional monarchy , with Queen Elizabeth II being the head of state . The Constitution Act , 1982 ( Schedule B of the Parliament of the United Kingdom 's Canada Act 1982 ) is a part of the Constitution of Canada .\n",
      "Canada . Canada is a federal parliamentary democracy and a constitutional monarchy , with Queen Elizabeth II being the head of state . A constitutional monarchy ( also known as a parliamentary monarchy ) is a form of monarchy in which the sovereign exercises their authorities in accordance with a written or unwritten constitution .\n",
      "The Renaissance ( [ rᵻˈneɪsəns ] , [ rɛnəˈsɑːns ] ) was a period in European history , from the 14th to the 17th century , regarded as the cultural bridge between the Middle Ages and modern history . As a cultural movement , the Renaissance encompassed innovative flowering of Latin and vernacular literatures , beginning with the 14th-century resurgence of learning based on classical sources , which contemporaries credited to Petrarch ; the development of linear perspective and other techniques of rendering a more natural reality in painting ; and gradual but widespread educational reform . Although the Renaissance saw revolutions in many intellectual pursuits , as well as social and political upheaval , it is perhaps best known for its artistic developments and the contributions of such polymaths as Leonardo da Vinci and Michelangelo , who inspired the term `` Renaissance man '' . Some observers have called into question whether the Renaissance was a cultural `` advance '' from the Middle Ages , instead seeing it as a period of pessimism and nostalgia for classical antiquity , while social and economic historians , especially of the longue durée , have instead focused on the continuity between the two eras , which are linked , as Panofsky observed , `` by a thousand ties '' .\n",
      "Pluto . Like other Kuiper belt objects , Pluto is primarily made of ice and rock and is relatively small -- about one-sixth the mass of the Moon and one-third its volume .\n",
      "William Shatner . From 2004 until 2008 , he starred as attorney Denny Crane in the final season of the legal drama The Practice and its spinoff series Boston Legal '' , a role that earned him two Emmy Awards .\n",
      "The Amanda Show is an American live action sketch comedy and variety show created by Dan Schneider that aired on Nickelodeon in April 4 , 1999 as a pilot , then as a regular series from October 16 , 1999 to September 21 , 2002 .\n",
      "19th G7 summit . The Group of Seven ( G7 ) was an unofficial forum which brought together the heads of the richest industrialized countries : France , Germany , Italy , Japan , the United Kingdom , the United States , Canada ( since 1976 ) and the President of the European Commission ( starting officially in 1981 ) .\n",
      "Edward Norton . He has also directed and co-written films , including his directorial debut , Keeping the Faith ( 2000 ) .\n",
      "Ethiopia . It is a land of natural contrasts , with its vast fertile West , jungles , and numerous rivers , and the world 's hottest settlement of Dallol in its north .\n",
      "Eminem . Eminem went on hiatus after touring in 2005 , releasing Relapse in 2009 and Recovery in 2010 . Relapse is the sixth studio album by American rapper Eminem .\n",
      "Eminem . Throughout his career , he has had 10 number-one albums on the Billboard 200 and five number-one singles on the Billboard Hot 100 . His next two releases , 2000 's The Marshall Mathers LP and 2002 's The Eminem Show , were worldwide successes , with each being certified diamond in U.S. sales , and both winning Best Rap Album Grammy Awards -- making Eminem the first artist to win the award for three consecutive LPs . Eminem 's eighth album , 2013 's The Marshall Mathers LP 2 , won two Grammy Awards , including Best Rap Album ; it expanded his record for the most wins in that category and his Grammy total to 15 . Encore ( stylized as ƎNCORE ) is the fifth studio album by American rapper Eminem . Relapse is the sixth studio album by American rapper Eminem .\n",
      "Connaught Tunnel . The Connaught Tunnel is a railway tunnel under the Selkirk Mountains in southeastern British Columbia , Canada , near the city of Revelstoke . The tunnel was later lined with reinforced concrete and equipped with a better ventilation system .\n",
      "Thor : The Dark World is a 2013 American superhero film based on the Marvel Comics character Thor , produced by Marvel Studios and distributed by Walt Disney Studios Motion Pictures . It is the sequel to 2011 's Thor and the eighth film in the Marvel Cinematic Universe . The film was directed by Alan Taylor , with a screenplay by Christopher Yost and Christopher Markus & Stephen McFeely . The film received mixed reviews , but was a commercial success , grossing over $ 644 million worldwide .\n",
      "The Odeon Leicester Square is a cinema which occupies the centre of the eastern side of Leicester Square in London , dominating the square with its huge black polished granite facade and 120 ft high tower displaying its name . Thor : The Dark World is a 2013 American superhero film based on the Marvel Comics character Thor , produced by Marvel Studios and distributed by Walt Disney Studios Motion Pictures . It is the sequel to 2011 's Thor and the eighth film in the Marvel Cinematic Universe . The film was directed by Alan Taylor , with a screenplay by Christopher Yost and Christopher Markus & Stephen McFeely . The film received mixed reviews , but was a commercial success , grossing over $ 644 million worldwide .\n",
      "The Odeon Leicester Square is a cinema which occupies the centre of the eastern side of Leicester Square in London , dominating the square with its huge black polished granite facade and 120 ft high tower displaying its name . Thor : The Dark World is a 2013 American superhero film based on the Marvel Comics character Thor , produced by Marvel Studios and distributed by Walt Disney Studios Motion Pictures . It is the sequel to 2011 's Thor and the eighth film in the Marvel Cinematic Universe . The film received mixed reviews , but was a commercial success , grossing over $ 644 million worldwide .\n",
      "Loki . Loki is the son of Fárbauti and Laufey , and the brother of Helblindi and Býleistr .\n",
      "Chester Bennington . Bennington was the lead vocalist for Stone Temple Pilots from 2013 to 2015 .\n",
      "Tender Mercies is a 1983 American drama film directed by Bruce Beresford .\n",
      "Baby Driver is a 2017 British -- American action comedy film written and directed by Edgar Wright , and starring Ansel Elgort , Kevin Spacey , Lily James , Jon Bernthal , Eiza González , Jon Hamm and Jamie Foxx .\n",
      "Aankhen ( English : The Eyes ) is a 1993 Bollywood action comedy directed by David Dhawan and starring Govinda in a double role and Chunky Pandey . David Dhawan ( born Rajinder Dhawan on 16 August 1955 ) is an Indian film director who works in Hindi films . The 1993 action thriller Aankhen and the 1999 comedy Biwi No. 1 earned him the Filmfare Award for Best Director nominations .\n",
      "Real World/Road Rules Challenge : The Gauntlet 2 is the 11th season of the MTV reality game show , The Challenge ( at the time known as Real World/Road Rules Challenge ) . The Challenge (TV series) . Later on , however , the series began using hosts : Eric Nies and Mark Long co-hosted a season , and Jonny Moseley and Dave Mirra hosted various seasons before T. J. Lavin became the show 's regular host by the 11th season .\n",
      "The Challenge ( originally known as Road Rules : All Stars , followed by Real World/Road Rules Challenge ) is a reality game show on MTV that is spun off from the network 's two reality shows , Real World and Road Rules . Of each season 's format and theme , 8 have been repeated or revamped through sequel seasons with shared subtitles .\n",
      "Real World/Road Rules Challenge is the 2nd season of the MTV reality game show , The Challenge ( sometimes incorrectly referred to as the show 's 1st season ) . Real World/Road Rules Extreme Challenge is the 4th season of the MTV reality game show , The Challenge ( at the time known as Real World/Road Rules Challenge ) . The Challenge ( originally known as Road Rules : All Stars , followed by Real World/Road Rules Challenge ) is a reality game show on MTV that is spun off from the network 's two reality shows , Real World and Road Rules . Since the 4th season , each season has supplied the show with a unique subtitle , such as Rivals .\n",
      "Real World/Road Rules Challenge : Battle of the Seasons is the 5th season of the MTV reality game show , The Challenge ( at the time known as Real World/Road Rules Challenge ) . The Challenge ( originally known as Road Rules : All Stars , followed by Real World/Road Rules Challenge ) is a reality game show on MTV that is spun off from the network 's two reality shows , Real World and Road Rules . In chronological order , these include : Battle of the Sexes ( tied to Battle of the Sexes II , the show 's first sequel season ) ; The Inferno ( tied to The Inferno II and The Inferno III , the show 's first trilogy ) ; The Gauntlet ( tied to The Gauntlet II and The Gauntlet III ) ; The Duel ( tied to The Duel II ) ; Fresh Meat ( tied to Fresh Meat II ) , Battle of the Seasons ( tied to the second Battle of the Seasons ) ; Rivals ( tied to Rivals II and Rivals III ) ; and Battle of the Exes ( tied to Battle of the Exes II ) .\n",
      "A spread is a food that is literally spread , generally with a knife , onto food products such as bread and crackers .\n",
      "Octavia Spencer . Recently , Spencer has received acclaim for her work in the films Get on Up , Black or White , Smashed , Snowpiercer , The Divergent Series : Insurgent , and Zootopia .\n",
      "Ramayanam is a 1996 mythological Telugu film directed by Gunasekhar and produced by M. S. Reddy .\n",
      "Man of Steel (film) . Man of Steel is a reboot of the Superman film series that retells the character 's origin story . Superman is a fictional superhero appearing in American comic books published by DC Comics .\n",
      "The Hangover Part III . The film stars Bradley Cooper , Ed Helms , Zach Galifianakis , Justin Bartha , and Ken Jeong . The supporting cast includes Jeffrey Tambor , Heather Graham , Mike Epps , Melissa McCarthy and John Goodman with Todd Phillips directing a screenplay written by himself and Craig Mazin .\n",
      "Ted Bundy . Initially incarcerated in Utah in 1975 for aggravated kidnapping and attempted criminal assault , Bundy became a suspect in a progressively longer list of unsolved homicides in multiple states . Facing murder charges in Colorado , he engineered two dramatic escapes and committed further assaults , including three murders , before his ultimate recapture in Florida in 1978 .\n",
      "Chinese people are the various individuals or groups of people associated with China , either through ancestry , ethnicity , nationality , citizenship , or other affiliation .\n",
      "List of thunder gods . In Indo-European cultures , the thunder god is frequently known as the chief or king of the gods , e.g. Indra in Hinduism , Zeus in Greek mythology , and Perun in ancient Slavic religion ; or a close relation thereof , e.g. Thor , son of Odin , in Norse mythology . Zeus [ ˈzju : s ] ( Ζεύς , Zeús , [ zdeǔ̯s ] Modern Δίας , Días [ ˈði.as ] ) is the sky and thunder god in ancient Greek religion , who ruled as king of the gods of Mount Olympus .\n"
     ]
    }
   ],
   "source": [
    "for i in range(100):\n",
    "    print(fever_plus[\"train\"][i][\"premise\"])"
   ]
  },
  {
   "cell_type": "code",
   "execution_count": 16,
   "metadata": {},
   "outputs": [
    {
     "data": {
      "text/plain": [
       "[{'index': 0,\n",
       "  'text': 'The',\n",
       "  'pos': 'DET',\n",
       "  'lemma': 'the',\n",
       "  'bnSynsetId': 'O',\n",
       "  'wnSynsetOffset': 'O',\n",
       "  'nltkSynset': 'O'},\n",
       " {'index': 1,\n",
       "  'text': 'Challenge',\n",
       "  'pos': 'PROPN',\n",
       "  'lemma': 'Challenge',\n",
       "  'bnSynsetId': 'O',\n",
       "  'wnSynsetOffset': 'O',\n",
       "  'nltkSynset': 'O'},\n",
       " {'index': 2,\n",
       "  'text': 'was',\n",
       "  'pos': 'AUX',\n",
       "  'lemma': 'be',\n",
       "  'bnSynsetId': 'O',\n",
       "  'wnSynsetOffset': 'O',\n",
       "  'nltkSynset': 'O'},\n",
       " {'index': 3,\n",
       "  'text': 'a',\n",
       "  'pos': 'DET',\n",
       "  'lemma': 'a',\n",
       "  'bnSynsetId': 'O',\n",
       "  'wnSynsetOffset': 'O',\n",
       "  'nltkSynset': 'O'},\n",
       " {'index': 4,\n",
       "  'text': 'reality',\n",
       "  'pos': 'NOUN',\n",
       "  'lemma': 'reality',\n",
       "  'bnSynsetId': 'bn:00066419n',\n",
       "  'wnSynsetOffset': '13956097n',\n",
       "  'nltkSynset': 'reality.n.03'},\n",
       " {'index': 5,\n",
       "  'text': 'game',\n",
       "  'pos': 'NOUN',\n",
       "  'lemma': 'game',\n",
       "  'bnSynsetId': 'bn:00037183n',\n",
       "  'wnSynsetOffset': '2152991n',\n",
       "  'nltkSynset': 'game.n.04'},\n",
       " {'index': 6,\n",
       "  'text': 'show',\n",
       "  'pos': 'NOUN',\n",
       "  'lemma': 'show',\n",
       "  'bnSynsetId': 'bn:00071316n',\n",
       "  'wnSynsetOffset': '6619065n',\n",
       "  'nltkSynset': 'show.n.03'},\n",
       " {'index': 7,\n",
       "  'text': '.',\n",
       "  'pos': 'PUNCT',\n",
       "  'lemma': '.',\n",
       "  'bnSynsetId': 'O',\n",
       "  'wnSynsetOffset': 'O',\n",
       "  'nltkSynset': 'O'}]"
      ]
     },
     "execution_count": 16,
     "metadata": {},
     "output_type": "execute_result"
    }
   ],
   "source": [
    "fever_plus[\"train\"][90]['wsd']['hypothesis']"
   ]
  },
  {
   "cell_type": "code",
   "execution_count": 17,
   "metadata": {},
   "outputs": [
    {
     "name": "stdout",
     "output_type": "stream",
     "text": [
      "Python is a high-level, general-purpose programming language. Its design philosophy emphasizes code readability with the use of significant indentation.\n"
     ]
    },
    {
     "name": "stderr",
     "output_type": "stream",
     "text": [
      "[nltk_data] Downloading package punkt to\n",
      "[nltk_data]     C:\\Users\\damic\\AppData\\Roaming\\nltk_data...\n",
      "[nltk_data]   Package punkt is already up-to-date!\n"
     ]
    }
   ],
   "source": [
    "import wikipedia\n",
    "\n",
    "import nltk\n",
    "nltk.download('punkt')\n",
    "from nltk.tokenize import sent_tokenize\n",
    "\n",
    "# get the summary of the wikipedia page with \"page_title\"; returns an empty string if nothing is found until now\n",
    "def get_wikipedia_summary(page_title):\n",
    "    if not page_title:  # if passed a None for entry, return nothing\n",
    "        return ''\n",
    "    try:\n",
    "        summary = wikipedia.summary(page_title)\n",
    "        return summary\n",
    "    except wikipedia.DisambiguationError as e:\n",
    "        return ''     # f\"Disambiguation error: {e.options}\"\n",
    "    except wikipedia.PageError:\n",
    "        return ''     # f\"No page found for {page_title}\"\n",
    "\n",
    "# get N sentences from wikipedia summary or any text in general   \n",
    "def get_first_N_sentences(text, N):\n",
    "    sentences = sent_tokenize(text)\n",
    "    text_shortened = sentences[:N]\n",
    "    return ' '.join(text_shortened)\n",
    "\n",
    "\n",
    "# Example usage\n",
    "page_title = \"Python (programming language)\"\n",
    "summary = get_wikipedia_summary(page_title)\n",
    "summary = get_first_N_sentences(summary, SENTENCES_TO_KEEP)\n",
    "print(summary)\n"
   ]
  },
  {
   "cell_type": "code",
   "execution_count": 18,
   "metadata": {},
   "outputs": [],
   "source": [
    "# take the first PROPN words N-gram tagged (to be used to search wikipedia later)\n",
    "def retrieve_pag_to_search(annotated_sentence):   # remember to pass something like: fever_plus['train'][elem]\n",
    "\n",
    "    page_to_search = ''\n",
    "    last_was_PROPN = False\n",
    "\n",
    "    for word in annotated_sentence['wsd']['hypothesis']:  # search the sentence word by word...\n",
    "        if word['pos'] == 'PROPN':      # ...if a proper name is found, update the page to search...\n",
    "           page_to_search += ' ' + word['text']\n",
    "           last_was_PROPN = True\n",
    "        elif last_was_PROPN:            # ...else if not, stop the search beacuse the PROPN N-gram is finished\n",
    "            break\n",
    "\n",
    "    return page_to_search"
   ]
  },
  {
   "cell_type": "code",
   "execution_count": 19,
   "metadata": {},
   "outputs": [
    {
     "name": "stdout",
     "output_type": "stream",
     "text": [
      "<WikipediaPage 'Jaguar'>\n"
     ]
    }
   ],
   "source": [
    "import wikipedia\n",
    "from sklearn.metrics.pairwise import cosine_similarity\n",
    "from sklearn.feature_extraction.text import TfidfVectorizer\n",
    "\n",
    "def get_wikipedia_sense(word, sentence):\n",
    "    # Search for the word in Wikipedia\n",
    "    try:\n",
    "        search_results = wikipedia.search(word)\n",
    "    except wikipedia.WikipediaException:\n",
    "        return None  # Return None if there's an error during search\n",
    "\n",
    "    if not search_results:  # If no page entries are found\n",
    "        return None\n",
    "\n",
    "    # Create a TF-IDF vectorizer and fit it on the sentence and search results\n",
    "    vectorizer = TfidfVectorizer().fit_transform([sentence] + search_results)\n",
    "    vectors = vectorizer.toarray()\n",
    "    \n",
    "    # Compute cosine similarities between the sentence and the search results\n",
    "    cosine_similarities = cosine_similarity(vectors[0:1], vectors[1:]).flatten()\n",
    "    best_match_index = cosine_similarities.argmax()\n",
    "\n",
    "    # Obtain the best corresponding page if applicable, else None\n",
    "    try:\n",
    "        best_page_title = search_results[best_match_index]\n",
    "        best_page = wikipedia.page(best_page_title)\n",
    "        return best_page\n",
    "    except wikipedia.DisambiguationError as e:\n",
    "        # Handling disambiguation by checking if there are options\n",
    "        if e.options:\n",
    "            # Optionally, you can further refine this to select the most relevant option\n",
    "            for option in e.options:\n",
    "                try:\n",
    "                    option_page = wikipedia.page(option)\n",
    "                    return option_page\n",
    "                except wikipedia.WikipediaException:    # should be PageError, but to be sure skip the word if any error occur (I'm looking at you, 'Portugual' wiki entry)\n",
    "                    continue\n",
    "        return None\n",
    "    except wikipedia.PageError:\n",
    "        return None\n",
    "    except wikipedia.WikipediaException:\n",
    "        return None  # Handle other Wikipedia exceptions\n",
    "\n",
    "# Example of usage\n",
    "word = \"jaguar\"\n",
    "sentence = \"The jaguar is a large cat species and the only extant member of the genus Panthera native to the Americas.\"\n",
    "sense = get_wikipedia_sense(word, sentence)\n",
    "print(sense)\n"
   ]
  },
  {
   "cell_type": "code",
   "execution_count": 20,
   "metadata": {},
   "outputs": [
    {
     "name": "stderr",
     "output_type": "stream",
     "text": [
      "Augmenting Dataset:   0%|          | 67/51086 [02:35<30:51:11,  2.18s/it]"
     ]
    }
   ],
   "source": [
    "\n",
    "#############################\n",
    "# FULL AUGMENT LOOP:        #\n",
    "# WIKIPEDIA REDUDANCY       #\n",
    "#############################\n",
    "\n",
    "from tqdm import tqdm\n",
    "# Suppress specific warnings\n",
    "import warnings\n",
    "warnings.filterwarnings(\"ignore\", category=UserWarning, module=\"wikipedia\")\n",
    "\n",
    "# Wikipedia Redudancy aumenter function for a single dataset\n",
    "def WR_augment(dataset, sentences_to_keep):\n",
    "  wr_list = []\n",
    "\n",
    "  for entry in tqdm(dataset, desc=\"Augmenting Dataset\"):\n",
    "      \n",
    "      page_to_search = retrieve_pag_to_search(entry)\n",
    "      disambiguated_page = get_wikipedia_sense(page_to_search, entry['premise'])\n",
    "      summary = get_first_N_sentences(get_wikipedia_summary(disambiguated_page), sentences_to_keep)\n",
    "      # print(summary)\n",
    "\n",
    "      # add entry to list if found, otherwise add ''\n",
    "      wr_list.append({\n",
    "                      'id' : entry['id'],\n",
    "                      'summary' : summary,\n",
    "                      'old_premise' : entry['premise'], \n",
    "                      'augmented_premise' : summary + ' ' + entry['premise'], \n",
    "                      'hypothesis': entry['hypothesis'], \n",
    "                      'label' : entry['label'], \n",
    "                      'wsd' : entry['wsd'], \n",
    "                      'srl' : entry['srl']\n",
    "                    })  \n",
    "\n",
    "  return wr_list\n",
    "\n",
    "\n",
    "\n",
    "# WR-Augmented datasets creation\n",
    "wr_augmented_fever_train = pd.DataFrame(WR_augment(fever_plus['train'], SENTENCES_TO_KEEP))\n",
    "print('train dataset done')\n",
    "wr_augmented_fever_eval = pd.DataFrame(WR_augment(fever_plus['eval'], SENTENCES_TO_KEEP))\n",
    "print('eval dataset done')\n",
    "wr_augmented_fever_test = pd.DataFrame(WR_augment(fever_plus['test'], SENTENCES_TO_KEEP))\n",
    "print('test dataset done')\n"
   ]
  },
  {
   "cell_type": "code",
   "execution_count": null,
   "metadata": {},
   "outputs": [],
   "source": [
    "# Write DataFrames to jsonl files\n",
    "wr_augmented_fever_train.to_json(OUTPUT_PATH + 'fever_train_wr.jsonl', orient='records', lines=True)\n",
    "wr_augmented_fever_eval.to_json(OUTPUT_PATH + 'fever_eval_wr.jsonl', orient='records', lines=True)\n",
    "wr_augmented_fever_test.to_json(OUTPUT_PATH + 'fever_test_wr.jsonl', orient='records', lines=True)\n",
    "print('output files created')"
   ]
  },
  {
   "cell_type": "code",
   "execution_count": null,
   "metadata": {},
   "outputs": [
    {
     "data": {
      "text/html": [
       "<div>\n",
       "<style scoped>\n",
       "    .dataframe tbody tr th:only-of-type {\n",
       "        vertical-align: middle;\n",
       "    }\n",
       "\n",
       "    .dataframe tbody tr th {\n",
       "        vertical-align: top;\n",
       "    }\n",
       "\n",
       "    .dataframe thead th {\n",
       "        text-align: right;\n",
       "    }\n",
       "</style>\n",
       "<table border=\"1\" class=\"dataframe\">\n",
       "  <thead>\n",
       "    <tr style=\"text-align: right;\">\n",
       "      <th></th>\n",
       "      <th>id</th>\n",
       "      <th>old_premise</th>\n",
       "      <th>augmented_premise</th>\n",
       "      <th>hypothesis</th>\n",
       "      <th>label</th>\n",
       "      <th>wsd</th>\n",
       "      <th>srl</th>\n",
       "    </tr>\n",
       "  </thead>\n",
       "  <tbody>\n",
       "  </tbody>\n",
       "</table>\n",
       "</div>"
      ],
      "text/plain": [
       "Empty DataFrame\n",
       "Columns: [id, old_premise, augmented_premise, hypothesis, label, wsd, srl]\n",
       "Index: []"
      ]
     },
     "execution_count": 19,
     "metadata": {},
     "output_type": "execute_result"
    }
   ],
   "source": [
    "wr_augmented_fever_train"
   ]
  }
 ],
 "metadata": {
  "kernelspec": {
   "display_name": "nlp_env2",
   "language": "python",
   "name": "python3"
  },
  "language_info": {
   "codemirror_mode": {
    "name": "ipython",
    "version": 3
   },
   "file_extension": ".py",
   "mimetype": "text/x-python",
   "name": "python",
   "nbconvert_exporter": "python",
   "pygments_lexer": "ipython3",
   "version": "3.10.10"
  }
 },
 "nbformat": 4,
 "nbformat_minor": 2
}
