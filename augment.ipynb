{
 "cells": [
  {
   "cell_type": "code",
   "execution_count": 1,
   "metadata": {},
   "outputs": [],
   "source": [
    "SENTENCES_TO_KEEP = 3"
   ]
  },
  {
   "cell_type": "code",
   "execution_count": 2,
   "metadata": {},
   "outputs": [
    {
     "name": "stderr",
     "output_type": "stream",
     "text": [
      "c:\\Users\\damic\\anaconda3\\envs\\nlp_env2\\lib\\site-packages\\tqdm\\auto.py:21: TqdmWarning: IProgress not found. Please update jupyter and ipywidgets. See https://ipywidgets.readthedocs.io/en/stable/user_install.html\n",
      "  from .autonotebook import tqdm as notebook_tqdm\n"
     ]
    }
   ],
   "source": [
    "from datasets import load_dataset\n",
    "\n",
    "fever_plus = load_dataset(\"tommasobonomo/sem_augmented_fever_nli\")"
   ]
  },
  {
   "cell_type": "code",
   "execution_count": 3,
   "metadata": {},
   "outputs": [
    {
     "name": "stderr",
     "output_type": "stream",
     "text": [
      "[nltk_data] Downloading package punkt to\n",
      "[nltk_data]     C:\\Users\\damic\\AppData\\Roaming\\nltk_data...\n",
      "[nltk_data]   Package punkt is already up-to-date!\n"
     ]
    },
    {
     "name": "stdout",
     "output_type": "stream",
     "text": [
      "Python is a high-level, general-purpose programming language. Its design philosophy emphasizes code readability with the use of significant indentation. Python is dynamically typed and garbage-collected.\n"
     ]
    }
   ],
   "source": [
    "import wikipedia\n",
    "\n",
    "import nltk\n",
    "nltk.download('punkt')\n",
    "from nltk.tokenize import sent_tokenize\n",
    "\n",
    "def get_first_N_sentences(text, N):\n",
    "    sentences = sent_tokenize(text)\n",
    "    text_shortened = sentences[:N]\n",
    "    return ' '.join(text_shortened)\n",
    "\n",
    "\n",
    "def get_wikipedia_summary(page_title):\n",
    "    try:\n",
    "        summary = wikipedia.summary(page_title)\n",
    "        return summary\n",
    "    except wikipedia.exceptions.DisambiguationError as e:\n",
    "        return f\"Disambiguation error: {e.options}\"\n",
    "    except wikipedia.exceptions.PageError:\n",
    "        return f\"No page found for {page_title}\"\n",
    "\n",
    "# Example usage\n",
    "page_title = \"Python (programming language)\"\n",
    "summary = get_wikipedia_summary(page_title)\n",
    "summary = get_first_N_sentences(summary, SENTENCES_TO_KEEP)\n",
    "print(summary)\n"
   ]
  },
  {
   "cell_type": "code",
   "execution_count": 5,
   "metadata": {},
   "outputs": [
    {
     "name": "stderr",
     "output_type": "stream",
     "text": [
      "[nltk_data] Downloading package punkt to\n",
      "[nltk_data]     C:\\Users\\damic\\AppData\\Roaming\\nltk_data...\n",
      "[nltk_data]   Package punkt is already up-to-date!\n"
     ]
    },
    {
     "name": "stdout",
     "output_type": "stream",
     "text": [
      "Disambiguation error: No relevant option found for context 'I have used python as my language to write this useful script'\n"
     ]
    }
   ],
   "source": [
    "# import wikipedia\n",
    "# import nltk\n",
    "# nltk.download('punkt')\n",
    "# from nltk.tokenize import sent_tokenize\n",
    "\n",
    "# def get_wikipedia_summary_from_context(word, context):\n",
    "#     try:\n",
    "#         # Attempt to get the summary directly\n",
    "#         summary = wikipedia.summary(word)\n",
    "#     except wikipedia.exceptions.DisambiguationError as e:\n",
    "#         # Handle disambiguation by selecting the most relevant option based on context\n",
    "#         for option in e.options:\n",
    "#             if context.lower() in option.lower():\n",
    "#                 summary = wikipedia.summary(option)\n",
    "#                 break\n",
    "#         else:\n",
    "#             return f\"Disambiguation error: No relevant option found for context '{context}'\"\n",
    "#     except wikipedia.exceptions.PageError:\n",
    "#         return f\"No page found for {word}\"\n",
    "\n",
    "#     return get_first_three_sentences(summary)\n",
    "\n",
    "# def get_first_three_sentences(text):\n",
    "#     sentences = sent_tokenize(text)\n",
    "#     first_three = sentences[:3]\n",
    "#     return ' '.join(first_three)\n",
    "\n",
    "# # Example usage\n",
    "# word = \"Python\"\n",
    "# context = \"I have used python as my language to write this useful script\"\n",
    "# result = get_wikipedia_summary_from_context(word, context)\n",
    "\n",
    "# print(result)\n"
   ]
  }
 ],
 "metadata": {
  "kernelspec": {
   "display_name": "nlp_env2",
   "language": "python",
   "name": "python3"
  },
  "language_info": {
   "codemirror_mode": {
    "name": "ipython",
    "version": 3
   },
   "file_extension": ".py",
   "mimetype": "text/x-python",
   "name": "python",
   "nbconvert_exporter": "python",
   "pygments_lexer": "ipython3",
   "version": "3.10.10"
  }
 },
 "nbformat": 4,
 "nbformat_minor": 2
}
