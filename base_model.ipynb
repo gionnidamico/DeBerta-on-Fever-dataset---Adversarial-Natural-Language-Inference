{
 "cells": [
  {
   "cell_type": "code",
   "execution_count": 1,
   "metadata": {},
   "outputs": [
    {
     "name": "stdout",
     "output_type": "stream",
     "text": [
      "Using cuda...\n"
     ]
    }
   ],
   "source": [
    "import torch\n",
    "device = 'cuda' if torch.cuda.is_available() else 'cpu'\n",
    "print(f'Using {device}...')"
   ]
  },
  {
   "cell_type": "code",
   "execution_count": 2,
   "metadata": {},
   "outputs": [
    {
     "name": "stderr",
     "output_type": "stream",
     "text": [
      "c:\\Users\\anon\\miniconda3\\envs\\nlp\\Lib\\site-packages\\tqdm\\auto.py:21: TqdmWarning: IProgress not found. Please update jupyter and ipywidgets. See https://ipywidgets.readthedocs.io/en/stable/user_install.html\n",
      "  from .autonotebook import tqdm as notebook_tqdm\n"
     ]
    }
   ],
   "source": [
    "from datasets import load_dataset\n",
    "\n",
    "fever_plus = load_dataset(\"tommasobonomo/sem_augmented_fever_nli\")"
   ]
  },
  {
   "cell_type": "code",
   "execution_count": 3,
   "metadata": {},
   "outputs": [
    {
     "data": {
      "text/html": [
       "<div>\n",
       "<style scoped>\n",
       "    .dataframe tbody tr th:only-of-type {\n",
       "        vertical-align: middle;\n",
       "    }\n",
       "\n",
       "    .dataframe tbody tr th {\n",
       "        vertical-align: top;\n",
       "    }\n",
       "\n",
       "    .dataframe thead th {\n",
       "        text-align: right;\n",
       "    }\n",
       "</style>\n",
       "<table border=\"1\" class=\"dataframe\">\n",
       "  <thead>\n",
       "    <tr style=\"text-align: right;\">\n",
       "      <th></th>\n",
       "      <th>id</th>\n",
       "      <th>premise</th>\n",
       "      <th>hypothesis</th>\n",
       "      <th>label</th>\n",
       "      <th>wsd</th>\n",
       "      <th>srl</th>\n",
       "    </tr>\n",
       "  </thead>\n",
       "  <tbody>\n",
       "    <tr>\n",
       "      <th>premise</th>\n",
       "      <td>150448</td>\n",
       "      <td>Roman Atwood . He is best known for his vlogs ...</td>\n",
       "      <td>Roman Atwood is a content creator.</td>\n",
       "      <td>ENTAILMENT</td>\n",
       "      <td>[{'index': 0, 'text': 'Roman', 'pos': 'ADJ', '...</td>\n",
       "      <td>{'tokens': [{'index': 0, 'rawText': 'Roman'}, ...</td>\n",
       "    </tr>\n",
       "    <tr>\n",
       "      <th>hypothesis</th>\n",
       "      <td>150448</td>\n",
       "      <td>Roman Atwood . He is best known for his vlogs ...</td>\n",
       "      <td>Roman Atwood is a content creator.</td>\n",
       "      <td>ENTAILMENT</td>\n",
       "      <td>[{'index': 0, 'text': 'Roman', 'pos': 'PROPN',...</td>\n",
       "      <td>{'tokens': [{'index': 0, 'rawText': 'Roman'}, ...</td>\n",
       "    </tr>\n",
       "  </tbody>\n",
       "</table>\n",
       "</div>"
      ],
      "text/plain": [
       "                id                                            premise  \\\n",
       "premise     150448  Roman Atwood . He is best known for his vlogs ...   \n",
       "hypothesis  150448  Roman Atwood . He is best known for his vlogs ...   \n",
       "\n",
       "                                    hypothesis       label  \\\n",
       "premise     Roman Atwood is a content creator.  ENTAILMENT   \n",
       "hypothesis  Roman Atwood is a content creator.  ENTAILMENT   \n",
       "\n",
       "                                                          wsd  \\\n",
       "premise     [{'index': 0, 'text': 'Roman', 'pos': 'ADJ', '...   \n",
       "hypothesis  [{'index': 0, 'text': 'Roman', 'pos': 'PROPN',...   \n",
       "\n",
       "                                                          srl  \n",
       "premise     {'tokens': [{'index': 0, 'rawText': 'Roman'}, ...  \n",
       "hypothesis  {'tokens': [{'index': 0, 'rawText': 'Roman'}, ...  "
      ]
     },
     "execution_count": 3,
     "metadata": {},
     "output_type": "execute_result"
    }
   ],
   "source": [
    "import pandas as pd\n",
    "pd.DataFrame(fever_plus[\"train\"][0])"
   ]
  },
  {
   "cell_type": "code",
   "execution_count": 4,
   "metadata": {},
   "outputs": [
    {
     "data": {
      "text/plain": [
       "'ADJ PROPN PUNCT PRON AUX ADV VERB ADP PRON NOUN PUNCT SCONJ PRON VERB NOUN ADP PRON NOUN ADP DET ADJ NOUN PUNCT PRON VERB NOUN PUNCT PUNCT PUNCT X PUNCT PUNCT AUX DET NOUN ADP NUM NUM NOUN CCONJ NUM NUM NOUN PUNCT PRON ADV AUX DET PROPN NOUN VERB PUNCT PUNCT PROPN PUNCT PUNCT SCONJ PRON VERB NOUN PUNCT'"
      ]
     },
     "execution_count": 4,
     "metadata": {},
     "output_type": "execute_result"
    }
   ],
   "source": [
    "\" \".join([wsd['pos'] for wsd in fever_plus['train'][0][\"wsd\"][\"premise\"]])             # create a sentence with the list of all the POS tags sepaated by space"
   ]
  },
  {
   "cell_type": "code",
   "execution_count": 5,
   "metadata": {},
   "outputs": [],
   "source": [
    "# free up CUDA space and optimize space used\n",
    "torch.cuda.empty_cache()\n",
    "torch.cuda.set_per_process_memory_fraction(0.95, 0)  # Use 95% of GPU memory\n",
    "#torch.cuda.set_max_split_size_mb(256)  # Set max split size to 256MB\n"
   ]
  },
  {
   "cell_type": "code",
   "execution_count": 6,
   "metadata": {},
   "outputs": [],
   "source": [
    "# combine the elements from a fever entry to prepare a feasible input for \n",
    "def preprocess_input(entry, tokenizer, use_POS=True):\n",
    "\n",
    "    # Sample premise and hypothesis with POS tagging\n",
    "    premise = entry[\"premise\"]\n",
    "    hypothesis = entry[\"hypothesis\"]\n",
    "\n",
    "    if use_POS:\n",
    "        # Corresponding POS tags (this is just a placeholder for the actual POS tags)\n",
    "        premise_pos = \" \".join([wsd['pos'] for wsd in entry[\"wsd\"][\"premise\"]])             # create a sentence with the list of all the POS tags sepaated by space\n",
    "        hypothesis_pos = \" \".join([wsd['pos'] for wsd in entry[\"wsd\"][\"hypothesis\"]])       # \n",
    "\n",
    "        # Combine text with POS tags\n",
    "        premise_with_pos = f\"{premise} POS: {premise_pos}\"\n",
    "        hypothesis_with_pos = f\"{hypothesis} POS: {hypothesis_pos}\"\n",
    "        \n",
    "        # Prepare the combined input for the model\n",
    "        combined_input = f\"[CLS] {premise_with_pos} [SEP] {hypothesis_with_pos}\"\n",
    "        encoding = tokenizer(combined_input, truncation=True, padding='max_length', max_length=438)\n",
    "    \n",
    "    else:\n",
    "        combined_input = f\"[CLS] {premise} [SEP] {hypothesis}\"\n",
    "        encoding = tokenizer(combined_input, truncation=True, padding='max_length', max_length=256)\n",
    "\n",
    "    # Map labels as integers representing the classes\n",
    "    label_map = {'ENTAILMENT': 0, 'CONTRADICTION': 1, 'NEUTRAL': 2}\n",
    "    int_label = label_map[entry['label']]\n",
    "\n",
    "\n",
    "    return {**encoding, 'label': int_label}\n",
    "\n",
    "\n"
   ]
  },
  {
   "cell_type": "code",
   "execution_count": 7,
   "metadata": {},
   "outputs": [
    {
     "name": "stderr",
     "output_type": "stream",
     "text": [
      "Map: 100%|██████████| 51086/51086 [01:52<00:00, 453.05 examples/s]\n",
      "Map: 100%|██████████| 2288/2288 [00:04<00:00, 465.36 examples/s]\n",
      "Map: 100%|██████████| 2287/2287 [00:04<00:00, 457.46 examples/s]\n"
     ]
    }
   ],
   "source": [
    "import torch\n",
    "from transformers import DebertaV2Tokenizer, DebertaV2ForSequenceClassification, Trainer, TrainingArguments\n",
    "from datasets import Dataset, load_metric\n",
    "\n",
    "# Load the DeBERTa tokenizer \n",
    "tokenizer = DebertaV2Tokenizer.from_pretrained('microsoft/deberta-v3-xsmall')\n",
    "\n",
    "# Apply preprocessing to datasets\n",
    "train_dataset = fever_plus['train'].map(preprocess_input, fn_kwargs={'tokenizer': tokenizer, 'use_POS':True})\n",
    "val_dataset = fever_plus['validation'].map(preprocess_input, fn_kwargs={'tokenizer': tokenizer, 'use_POS':True})\n",
    "test_dataset = fever_plus['test'].map(preprocess_input, fn_kwargs={'tokenizer': tokenizer, 'use_POS':True})\n",
    "\n",
    "# Set format for PyTorch\n",
    "train_dataset.set_format(type='torch', columns=['input_ids', 'attention_mask', 'label'])\n",
    "val_dataset.set_format(type='torch', columns=['input_ids', 'attention_mask', 'label'])\n",
    "test_dataset.set_format(type='torch', columns=['input_ids', 'attention_mask', 'label'])\n",
    "\n"
   ]
  },
  {
   "cell_type": "code",
   "execution_count": 8,
   "metadata": {},
   "outputs": [
    {
     "data": {
      "text/plain": [
       "'\\ndef compute_max_length(dataset, tokenizer):\\n    lengths = []\\n    for entry in dataset:\\n        premise = entry[\"premise\"]\\n        hypothesis = entry[\"hypothesis\"]\\n        \\n        premise_with_pos = f\"{premise} POS: {\\' \\'.join([wsd[\\'pos\\'] for wsd in entry[\\'wsd\\'][\\'premise\\']])}\"\\n        hypothesis_with_pos = f\"{hypothesis} POS: {\\' \\'.join([wsd[\\'pos\\'] for wsd in entry[\\'wsd\\'][\\'hypothesis\\']])}\"\\n        \\n        combined_input = f\"[CLS] {premise_with_pos} [SEP] {hypothesis_with_pos}\"\\n        encoding = tokenizer(combined_input, truncation=False, padding=False)\\n        \\n        lengths.append(len(encoding[\\'input_ids\\']))\\n    \\n    # Analyze the distribution of lengths\\n    import numpy as np\\n    lengths = np.array(lengths)\\n    print(f\"Mean length: {np.mean(lengths)}\")\\n    print(f\"95th percentile length: {np.percentile(lengths, 95)}\")\\n    print(f\"Max length: {np.max(lengths)}\")\\n\\n    return lengths\\n\\n\\nlenghts = compute_max_length(fever_plus[\\'train\\'], tokenizer)\\n'"
      ]
     },
     "execution_count": 8,
     "metadata": {},
     "output_type": "execute_result"
    }
   ],
   "source": [
    "'''\n",
    "def compute_max_length(dataset, tokenizer):\n",
    "    lengths = []\n",
    "    for entry in dataset:\n",
    "        premise = entry[\"premise\"]\n",
    "        hypothesis = entry[\"hypothesis\"]\n",
    "        \n",
    "        premise_with_pos = f\"{premise} POS: {' '.join([wsd['pos'] for wsd in entry['wsd']['premise']])}\"\n",
    "        hypothesis_with_pos = f\"{hypothesis} POS: {' '.join([wsd['pos'] for wsd in entry['wsd']['hypothesis']])}\"\n",
    "        \n",
    "        combined_input = f\"[CLS] {premise_with_pos} [SEP] {hypothesis_with_pos}\"\n",
    "        encoding = tokenizer(combined_input, truncation=False, padding=False)\n",
    "        \n",
    "        lengths.append(len(encoding['input_ids']))\n",
    "    \n",
    "    # Analyze the distribution of lengths\n",
    "    import numpy as np\n",
    "    lengths = np.array(lengths)\n",
    "    print(f\"Mean length: {np.mean(lengths)}\")\n",
    "    print(f\"95th percentile length: {np.percentile(lengths, 95)}\")\n",
    "    print(f\"Max length: {np.max(lengths)}\")\n",
    "\n",
    "    return lengths\n",
    "\n",
    "\n",
    "lenghts = compute_max_length(fever_plus['train'], tokenizer)\n",
    "'''\n",
    "# lenghts are: mean 210, 95th 438, max 3728"
   ]
  },
  {
   "cell_type": "code",
   "execution_count": 9,
   "metadata": {},
   "outputs": [
    {
     "name": "stderr",
     "output_type": "stream",
     "text": [
      "Some weights of DebertaV2ForSequenceClassification were not initialized from the model checkpoint at microsoft/deberta-v3-xsmall and are newly initialized: ['classifier.bias', 'classifier.weight', 'pooler.dense.bias', 'pooler.dense.weight']\n",
      "You should probably TRAIN this model on a down-stream task to be able to use it for predictions and inference.\n",
      "c:\\Users\\anon\\miniconda3\\envs\\nlp\\Lib\\site-packages\\transformers\\training_args.py:1474: FutureWarning: `evaluation_strategy` is deprecated and will be removed in version 4.46 of 🤗 Transformers. Use `eval_strategy` instead\n",
      "  warnings.warn(\n",
      "c:\\Users\\anon\\miniconda3\\envs\\nlp\\Lib\\site-packages\\accelerate\\accelerator.py:488: FutureWarning: `torch.cuda.amp.GradScaler(args...)` is deprecated. Please use `torch.amp.GradScaler('cuda', args...)` instead.\n",
      "  self.scaler = torch.cuda.amp.GradScaler(**kwargs)\n",
      "  6%|▋         | 500/7980 [1:17:36<19:12:51,  9.25s/it]"
     ]
    },
    {
     "name": "stdout",
     "output_type": "stream",
     "text": [
      "{'loss': 0.647, 'grad_norm': 5.158054828643799, 'learning_rate': 1.87468671679198e-05, 'epoch': 0.31}\n"
     ]
    },
    {
     "name": "stderr",
     "output_type": "stream",
     "text": [
      " 13%|█▎        | 1000/7980 [2:34:44<17:55:46,  9.25s/it]"
     ]
    },
    {
     "name": "stdout",
     "output_type": "stream",
     "text": [
      "{'loss': 0.449, 'grad_norm': 4.427201747894287, 'learning_rate': 1.749624060150376e-05, 'epoch': 0.63}\n"
     ]
    },
    {
     "name": "stderr",
     "output_type": "stream",
     "text": [
      " 19%|█▉        | 1500/7980 [3:51:52<16:39:55,  9.26s/it]"
     ]
    },
    {
     "name": "stdout",
     "output_type": "stream",
     "text": [
      "{'loss': 0.4251, 'grad_norm': 2.7518105506896973, 'learning_rate': 1.624561403508772e-05, 'epoch': 0.94}\n"
     ]
    },
    {
     "name": "stderr",
     "output_type": "stream",
     "text": [
      "                                                        \n",
      " 20%|██        | 1596/7980 [4:11:19<16:25:05,  9.26s/it]"
     ]
    },
    {
     "name": "stdout",
     "output_type": "stream",
     "text": [
      "{'eval_loss': 0.7372671365737915, 'eval_runtime': 273.4881, 'eval_samples_per_second': 8.366, 'eval_steps_per_second': 8.366, 'epoch': 1.0}\n"
     ]
    },
    {
     "name": "stderr",
     "output_type": "stream",
     "text": [
      " 25%|██▌       | 2000/7980 [5:14:01<15:26:37,  9.30s/it] "
     ]
    },
    {
     "name": "stdout",
     "output_type": "stream",
     "text": [
      "{'loss': 0.3759, 'grad_norm': 4.1460795402526855, 'learning_rate': 1.4992481203007521e-05, 'epoch': 1.25}\n"
     ]
    },
    {
     "name": "stderr",
     "output_type": "stream",
     "text": [
      " 31%|███▏      | 2500/7980 [6:31:35<14:09:18,  9.30s/it]"
     ]
    },
    {
     "name": "stdout",
     "output_type": "stream",
     "text": [
      "{'loss': 0.3708, 'grad_norm': 3.2597908973693848, 'learning_rate': 1.3739348370927319e-05, 'epoch': 1.57}\n"
     ]
    },
    {
     "name": "stderr",
     "output_type": "stream",
     "text": [
      " 38%|███▊      | 3000/7980 [7:49:21<12:53:28,  9.32s/it]"
     ]
    },
    {
     "name": "stdout",
     "output_type": "stream",
     "text": [
      "{'loss': 0.3564, 'grad_norm': 2.9030721187591553, 'learning_rate': 1.248621553884712e-05, 'epoch': 1.88}\n"
     ]
    },
    {
     "name": "stderr",
     "output_type": "stream",
     "text": [
      "                                                        \n",
      " 40%|████      | 3193/7980 [8:23:57<12:13:32,  9.19s/it]"
     ]
    },
    {
     "name": "stdout",
     "output_type": "stream",
     "text": [
      "{'eval_loss': 0.7466031312942505, 'eval_runtime': 273.5547, 'eval_samples_per_second': 8.364, 'eval_steps_per_second': 8.364, 'epoch': 2.0}\n"
     ]
    },
    {
     "name": "stderr",
     "output_type": "stream",
     "text": [
      " 44%|████▍     | 3500/7980 [9:37:43<18:04:01, 14.52s/it] "
     ]
    },
    {
     "name": "stdout",
     "output_type": "stream",
     "text": [
      "{'loss': 0.3352, 'grad_norm': 4.200982570648193, 'learning_rate': 1.1233082706766919e-05, 'epoch': 2.19}\n"
     ]
    },
    {
     "name": "stderr",
     "output_type": "stream",
     "text": [
      " 50%|█████     | 4000/7980 [11:38:17<15:56:43, 14.42s/it]"
     ]
    },
    {
     "name": "stdout",
     "output_type": "stream",
     "text": [
      "{'loss': 0.3181, 'grad_norm': 4.335425853729248, 'learning_rate': 9.979949874686718e-06, 'epoch': 2.51}\n"
     ]
    },
    {
     "name": "stderr",
     "output_type": "stream",
     "text": [
      " 56%|█████▋    | 4500/7980 [13:38:40<13:54:48, 14.39s/it]"
     ]
    },
    {
     "name": "stdout",
     "output_type": "stream",
     "text": [
      "{'loss': 0.319, 'grad_norm': 4.557716369628906, 'learning_rate': 8.726817042606517e-06, 'epoch': 2.82}\n"
     ]
    },
    {
     "name": "stderr",
     "output_type": "stream",
     "text": [
      "                                                         \n",
      " 60%|██████    | 4789/7980 [14:43:17<8:09:33,  9.21s/it]"
     ]
    },
    {
     "name": "stdout",
     "output_type": "stream",
     "text": [
      "{'eval_loss': 0.713811457157135, 'eval_runtime': 273.3697, 'eval_samples_per_second': 8.37, 'eval_steps_per_second': 8.37, 'epoch': 3.0}\n"
     ]
    },
    {
     "name": "stderr",
     "output_type": "stream",
     "text": [
      " 63%|██████▎   | 5000/7980 [15:32:39<11:54:38, 14.39s/it]"
     ]
    },
    {
     "name": "stdout",
     "output_type": "stream",
     "text": [
      "{'loss': 0.2992, 'grad_norm': 7.325547218322754, 'learning_rate': 7.473684210526316e-06, 'epoch': 3.13}\n"
     ]
    },
    {
     "name": "stderr",
     "output_type": "stream",
     "text": [
      " 69%|██████▉   | 5500/7980 [17:33:04<9:54:38, 14.39s/it] "
     ]
    },
    {
     "name": "stdout",
     "output_type": "stream",
     "text": [
      "{'loss': 0.2854, 'grad_norm': 6.902440071105957, 'learning_rate': 6.223057644110277e-06, 'epoch': 3.45}\n"
     ]
    },
    {
     "name": "stderr",
     "output_type": "stream",
     "text": [
      " 75%|███████▌  | 6000/7980 [19:33:28<7:54:54, 14.39s/it] "
     ]
    },
    {
     "name": "stdout",
     "output_type": "stream",
     "text": [
      "{'loss': 0.2923, 'grad_norm': 3.465545177459717, 'learning_rate': 4.969924812030076e-06, 'epoch': 3.76}\n"
     ]
    },
    {
     "name": "stderr",
     "output_type": "stream",
     "text": [
      "                                                        \n",
      " 80%|████████  | 6386/7980 [21:13:30<6:15:58, 14.15s/it]"
     ]
    },
    {
     "name": "stdout",
     "output_type": "stream",
     "text": [
      "{'eval_loss': 0.7740113139152527, 'eval_runtime': 425.5744, 'eval_samples_per_second': 5.376, 'eval_steps_per_second': 5.376, 'epoch': 4.0}\n"
     ]
    },
    {
     "name": "stderr",
     "output_type": "stream",
     "text": [
      " 81%|████████▏ | 6500/7980 [21:40:55<5:57:22, 14.49s/it]  "
     ]
    },
    {
     "name": "stdout",
     "output_type": "stream",
     "text": [
      "{'loss': 0.273, 'grad_norm': 4.418797969818115, 'learning_rate': 3.7167919799498746e-06, 'epoch': 4.07}\n"
     ]
    },
    {
     "name": "stderr",
     "output_type": "stream",
     "text": [
      " 88%|████████▊ | 7000/7980 [23:41:21<3:57:42, 14.55s/it]"
     ]
    },
    {
     "name": "stdout",
     "output_type": "stream",
     "text": [
      "{'loss': 0.2629, 'grad_norm': 10.50509262084961, 'learning_rate': 2.4636591478696745e-06, 'epoch': 4.38}\n"
     ]
    },
    {
     "name": "stderr",
     "output_type": "stream",
     "text": [
      " 94%|█████████▍| 7500/7980 [25:31:36<1:13:33,  9.19s/it]"
     ]
    },
    {
     "name": "stdout",
     "output_type": "stream",
     "text": [
      "{'loss': 0.2649, 'grad_norm': 4.186285495758057, 'learning_rate': 1.2130325814536342e-06, 'epoch': 4.7}\n"
     ]
    },
    {
     "name": "stderr",
     "output_type": "stream",
     "text": [
      "                                                        \n",
      "100%|██████████| 7980/7980 [26:49:46<00:00, 12.10s/it]"
     ]
    },
    {
     "name": "stdout",
     "output_type": "stream",
     "text": [
      "{'eval_loss': 0.7918862104415894, 'eval_runtime': 273.2713, 'eval_samples_per_second': 8.373, 'eval_steps_per_second': 8.373, 'epoch': 5.0}\n",
      "{'train_runtime': 96586.7412, 'train_samples_per_second': 2.645, 'train_steps_per_second': 0.083, 'train_loss': 0.34633619361055223, 'epoch': 5.0}\n"
     ]
    },
    {
     "name": "stderr",
     "output_type": "stream",
     "text": [
      "\n"
     ]
    },
    {
     "data": {
      "text/plain": [
       "TrainOutput(global_step=7980, training_loss=0.34633619361055223, metrics={'train_runtime': 96586.7412, 'train_samples_per_second': 2.645, 'train_steps_per_second': 0.083, 'total_flos': 1.4390385496304544e+16, 'train_loss': 0.34633619361055223, 'epoch': 4.998434074538052})"
      ]
     },
     "execution_count": 9,
     "metadata": {},
     "output_type": "execute_result"
    }
   ],
   "source": [
    "# TRAINING!!\n",
    "\n",
    "\n",
    "# Load the DeBerta v3 model\n",
    "model = DebertaV2ForSequenceClassification.from_pretrained('microsoft/deberta-v3-xsmall', num_labels=3)\n",
    "\n",
    "# Define the training arguments\n",
    "training_args = TrainingArguments(\n",
    "    output_dir='./results',\n",
    "    evaluation_strategy='epoch',\n",
    "    learning_rate=2e-5,\n",
    "    per_device_train_batch_size=8,\n",
    "    gradient_accumulation_steps=4,  # Simulate batch size of 8*4=32 but without loading all at once\n",
    "    per_device_eval_batch_size=1,\n",
    "    num_train_epochs=5,\n",
    "    weight_decay=0.01,\n",
    "    fp16=True,                       # Mixed precision training (weight are in float16)\n",
    "    no_cuda=False  # Use CPU instead of GPU\n",
    ")\n",
    "\n",
    "\n",
    "# Initialize the Trainer\n",
    "trainer = Trainer(\n",
    "    model=model,\n",
    "    args=training_args,\n",
    "    train_dataset=train_dataset,\n",
    "    eval_dataset=val_dataset\n",
    ")\n",
    "\n",
    "# Train the model\n",
    "trainer.train()\n",
    "\n",
    "# Evaluate the model\n",
    "#trainer.evaluate()\n"
   ]
  },
  {
   "cell_type": "code",
   "execution_count": 10,
   "metadata": {},
   "outputs": [
    {
     "data": {
      "text/plain": [
       "('./saved_model\\\\tokenizer_config.json',\n",
       " './saved_model\\\\special_tokens_map.json',\n",
       " './saved_model\\\\spm.model',\n",
       " './saved_model\\\\added_tokens.json')"
      ]
     },
     "execution_count": 10,
     "metadata": {},
     "output_type": "execute_result"
    }
   ],
   "source": [
    "# save model and tokenizer\n",
    "model.save_pretrained('./saved_model')\n",
    "tokenizer.save_pretrained('./saved_model')\n"
   ]
  },
  {
   "cell_type": "code",
   "execution_count": 11,
   "metadata": {},
   "outputs": [
    {
     "name": "stderr",
     "output_type": "stream",
     "text": [
      "100%|██████████| 2287/2287 [04:32<00:00,  8.39it/s]\n"
     ]
    },
    {
     "name": "stdout",
     "output_type": "stream",
     "text": [
      "F1 Score on the test set: 0.7319600225131008\n"
     ]
    },
    {
     "data": {
      "image/png": "[encoded data removed]",
      "text/plain": [
       "<Figure size 1000x700 with 2 Axes>"
      ]
     },
     "metadata": {},
     "output_type": "display_data"
    },
    {
     "name": "stdout",
     "output_type": "stream",
     "text": [
      "Confusion matrix saved to ./results/confusion_matrix.png\n"
     ]
    }
   ],
   "source": [
    "import seaborn as sns\n",
    "import matplotlib.pyplot as plt\n",
    "from sklearn.metrics import confusion_matrix, f1_score\n",
    "import os\n",
    "\n",
    "# Ensure the result directory exists\n",
    "os.makedirs('./results', exist_ok=True)\n",
    "\n",
    "# Get predictions\n",
    "predictions = trainer.predict(test_dataset)\n",
    "preds = predictions.predictions.argmax(-1)\n",
    "labels = predictions.label_ids\n",
    "\n",
    "# Compute F1 score\n",
    "f1 = f1_score(labels, preds, average='weighted')\n",
    "print(f\"F1 Score on the test set: {f1}\")\n",
    "\n",
    "# Compute confusion matrix\n",
    "cm = confusion_matrix(labels, preds)\n",
    "\n",
    "# Plot confusion matrix\n",
    "plt.figure(figsize=(10, 7))\n",
    "sns.heatmap(cm, annot=True, fmt='d', cmap='Blues')\n",
    "plt.xlabel('Predicted')\n",
    "plt.ylabel('Actual')\n",
    "plt.title('Confusion Matrix')\n",
    "plt.show()\n",
    "\n",
    "# Save the plot\n",
    "plt.savefig('./results/confusion_matrix.png')\n",
    "plt.close()\n",
    "\n",
    "print(\"Confusion matrix saved to ./results/confusion_matrix.png\")\n"
   ]
  }
 ],
 "metadata": {
  "kernelspec": {
   "display_name": "nlp_env",
   "language": "python",
   "name": "python3"
  },
  "language_info": {
   "codemirror_mode": {
    "name": "ipython",
    "version": 3
   },
   "file_extension": ".py",
   "mimetype": "text/x-python",
   "name": "python",
   "nbconvert_exporter": "python",
   "pygments_lexer": "ipython3",
   "version": "3.12.4"
  }
 },
 "nbformat": 4,
 "nbformat_minor": 2
}
