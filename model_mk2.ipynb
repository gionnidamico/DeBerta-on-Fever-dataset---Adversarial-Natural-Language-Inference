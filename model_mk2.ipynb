{
 "cells": [
  {
   "cell_type": "code",
   "execution_count": 1,
   "metadata": {},
   "outputs": [
    {
     "name": "stderr",
     "output_type": "stream",
     "text": [
      "c:\\Users\\damic\\anaconda3\\envs\\nlp_env2\\lib\\site-packages\\tqdm\\auto.py:21: TqdmWarning: IProgress not found. Please update jupyter and ipywidgets. See https://ipywidgets.readthedocs.io/en/stable/user_install.html\n",
      "  from .autonotebook import tqdm as notebook_tqdm\n"
     ]
    },
    {
     "name": "stdout",
     "output_type": "stream",
     "text": [
      "Logits: tensor([[-0.0545,  0.3824, -0.2765]], grad_fn=<AddmmBackward0>)\n",
      "Predicted class: 1 : contradiction\n"
     ]
    }
   ],
   "source": [
    "import torch\n",
    "import torch.nn as nn\n",
    "from transformers import BertModel, BertTokenizer\n",
    "\n",
    "class UnifiedNLIModel(nn.Module):\n",
    "    def __init__(self, model_name1='bert-base-uncased', model_name2='bert-base-uncased', num_classes=3):\n",
    "        super(UnifiedNLIModel, self).__init__()\n",
    "\n",
    "        # Load pre-trained models\n",
    "        self.model1 = BertModel.from_pretrained(model_name1)\n",
    "        self.model2 = BertModel.from_pretrained(model_name2)\n",
    "\n",
    "        # Freeze the models if you don't want to train them further\n",
    "        for param in self.model1.parameters():\n",
    "            param.requires_grad = True\n",
    "        for param in self.model2.parameters():\n",
    "            param.requires_grad = True\n",
    "\n",
    "        # Define a fully connected layer to combine the outputs\n",
    "        combined_hidden_size = self.model1.config.hidden_size + self.model2.config.hidden_size\n",
    "        self.fc = nn.Linear(combined_hidden_size, num_classes)\n",
    "\n",
    "    def forward(self, input_ids1, attention_mask1, input_ids2, attention_mask2):\n",
    "        # Get outputs from both models\n",
    "        outputs1 = self.model1(input_ids1, attention_mask=attention_mask1)\n",
    "        outputs2 = self.model2(input_ids2, attention_mask=attention_mask2)\n",
    "\n",
    "        # Get the pooled output (CLS token) from both models\n",
    "        pooled_output1 = outputs1.pooler_output\n",
    "        pooled_output2 = outputs2.pooler_output\n",
    "\n",
    "        # Concatenate the pooled outputs\n",
    "        combined_output = torch.cat((pooled_output1, pooled_output2), dim=1)\n",
    "\n",
    "        # Pass the combined output through the fully connected layer\n",
    "        logits = self.fc(combined_output)\n",
    "\n",
    "        return logits\n",
    "\n",
    "# Example usage\n",
    "tokenizer = BertTokenizer.from_pretrained('bert-base-uncased')\n",
    "\n",
    "# Define sample input sentences\n",
    "premise = \"A man is eating food.\"\n",
    "hypothesis = \"The man is having a meal.\"\n",
    "\n",
    "# Tokenize the input sentences for both models\n",
    "inputs1 = tokenizer(premise, hypothesis, return_tensors='pt', padding=True, truncation=True)\n",
    "inputs2 = tokenizer(hypothesis, premise, return_tensors='pt', padding=True, truncation=True)\n",
    "\n",
    "# Instantiate the model\n",
    "model = UnifiedNLIModel()\n",
    "\n",
    "# Pass the inputs through the model\n",
    "logits = model(inputs1['input_ids'], inputs1['attention_mask'], inputs2['input_ids'], inputs2['attention_mask'])\n",
    "\n",
    "# Output logits for each class (entailment, contradiction, neutral)\n",
    "print(\"Logits:\", logits)\n",
    "\n",
    "# Get the predicted class by applying torch.argmax\n",
    "predicted_class = torch.argmax(logits, dim=1).item()\n",
    "\n",
    "# Define the mapping of index to label\n",
    "label_map = {0: \"entailment\", 1: \"contradiction\", 2: \"neutral\"}\n",
    "\n",
    "# Get the corresponding label\n",
    "predicted_label = label_map[predicted_class]\n",
    "\n",
    "print(f\"Predicted class: {predicted_class} : {predicted_label}\")"
   ]
  }
 ],
 "metadata": {
  "kernelspec": {
   "display_name": "nlp_env2",
   "language": "python",
   "name": "python3"
  },
  "language_info": {
   "codemirror_mode": {
    "name": "ipython",
    "version": 3
   },
   "file_extension": ".py",
   "mimetype": "text/x-python",
   "name": "python",
   "nbconvert_exporter": "python",
   "pygments_lexer": "ipython3",
   "version": "3.10.10"
  }
 },
 "nbformat": 4,
 "nbformat_minor": 2
}
