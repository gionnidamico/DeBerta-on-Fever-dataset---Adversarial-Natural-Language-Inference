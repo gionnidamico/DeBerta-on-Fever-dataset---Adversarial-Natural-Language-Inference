{
 "cells": [
  {
   "cell_type": "code",
   "execution_count": 1,
   "metadata": {},
   "outputs": [],
   "source": [
    "# Simple parameters of this augmentation\n",
    "OUTPUT_PATH = 'Augmented Datasets/'\n",
    "\n",
    "import pandas as pd\n",
    "import os\n",
    "\n",
    "# Create the directory if it doesn't exist\n",
    "if not os.path.exists(OUTPUT_PATH):   \n",
    "    os.makedirs(OUTPUT_PATH)\n",
    "\n",
    "\n",
    "import torch\n",
    "# Check if GPU is available, otherwise use CPU\n",
    "device = torch.device(\"cuda\" if torch.cuda.is_available() else \"cpu\")\n"
   ]
  },
  {
   "cell_type": "code",
   "execution_count": 2,
   "metadata": {},
   "outputs": [
    {
     "name": "stderr",
     "output_type": "stream",
     "text": [
      "c:\\Users\\damic\\anaconda3\\envs\\nlp_env2\\lib\\site-packages\\tqdm\\auto.py:21: TqdmWarning: IProgress not found. Please update jupyter and ipywidgets. See https://ipywidgets.readthedocs.io/en/stable/user_install.html\n",
      "  from .autonotebook import tqdm as notebook_tqdm\n",
      "Downloading readme: 100%|██████████| 5.17k/5.17k [00:00<00:00, 5.34MB/s]\n"
     ]
    },
    {
     "name": "stdout",
     "output_type": "stream",
     "text": [
      "Downloading and preparing dataset None/None to C:/Users/damic/.cache/huggingface/datasets/tommasobonomo___parquet/tommasobonomo--sem_augmented_fever_nli-db3ef72f4a5c91d2/0.0.0/2a3b91fbd88a2c90d1dbbb32b460cf621d31bd5b05b934492fdef7d8d6f236ec...\n"
     ]
    },
    {
     "name": "stderr",
     "output_type": "stream",
     "text": [
      "Downloading data: 100%|██████████| 72.1M/72.1M [00:05<00:00, 12.9MB/s]\n",
      "Downloading data: 100%|██████████| 3.25M/3.25M [00:00<00:00, 11.0MB/s]\n",
      "Downloading data: 100%|██████████| 3.25M/3.25M [00:00<00:00, 11.2MB/s]\n",
      "Downloading data files: 100%|██████████| 3/3 [00:09<00:00,  3.20s/it]\n",
      "Extracting data files: 100%|██████████| 3/3 [00:00<00:00, 137.70it/s]\n",
      "                                                                                          \r"
     ]
    },
    {
     "name": "stdout",
     "output_type": "stream",
     "text": [
      "Dataset parquet downloaded and prepared to C:/Users/damic/.cache/huggingface/datasets/tommasobonomo___parquet/tommasobonomo--sem_augmented_fever_nli-db3ef72f4a5c91d2/0.0.0/2a3b91fbd88a2c90d1dbbb32b460cf621d31bd5b05b934492fdef7d8d6f236ec. Subsequent calls will reuse this data.\n"
     ]
    },
    {
     "name": "stderr",
     "output_type": "stream",
     "text": [
      "100%|██████████| 3/3 [00:00<00:00, 31.50it/s]\n"
     ]
    }
   ],
   "source": [
    "from datasets import load_dataset\n",
    "\n",
    "fever_plus = load_dataset(\"tommasobonomo/sem_augmented_fever_nli\")"
   ]
  },
  {
   "cell_type": "code",
   "execution_count": 8,
   "metadata": {},
   "outputs": [
    {
     "ename": "AttributeError",
     "evalue": "'dict' object has no attribute 'lower'",
     "output_type": "error",
     "traceback": [
      "\u001b[1;31m---------------------------------------------------------------------------\u001b[0m",
      "\u001b[1;31mAttributeError\u001b[0m                            Traceback (most recent call last)",
      "Cell \u001b[1;32mIn[8], line 21\u001b[0m\n\u001b[0;32m     17\u001b[0m     \u001b[38;5;28;01mreturn\u001b[39;00m \u001b[38;5;28;01mNone\u001b[39;00m  \u001b[38;5;66;03m# Return None if no synonyms are found\u001b[39;00m\n\u001b[0;32m     20\u001b[0m \u001b[38;5;28;01mfor\u001b[39;00m i \u001b[38;5;129;01min\u001b[39;00m \u001b[38;5;28mrange\u001b[39m(\u001b[38;5;241m1000\u001b[39m):\n\u001b[1;32m---> 21\u001b[0m     \u001b[38;5;28mprint\u001b[39m(\u001b[43mget_synonym\u001b[49m\u001b[43m(\u001b[49m\u001b[43mfever_plus\u001b[49m\u001b[43m[\u001b[49m\u001b[38;5;124;43m\"\u001b[39;49m\u001b[38;5;124;43mtrain\u001b[39;49m\u001b[38;5;124;43m\"\u001b[39;49m\u001b[43m]\u001b[49m\u001b[43m[\u001b[49m\u001b[43mi\u001b[49m\u001b[43m]\u001b[49m\u001b[43m,\u001b[49m\u001b[43m \u001b[49m\u001b[43mpos\u001b[49m\u001b[38;5;241;43m=\u001b[39;49m\u001b[38;5;124;43m'\u001b[39;49m\u001b[38;5;124;43mNOUN\u001b[39;49m\u001b[38;5;124;43m'\u001b[39;49m\u001b[43m)\u001b[49m)\n",
      "Cell \u001b[1;32mIn[3], line 29\u001b[0m, in \u001b[0;36mget_synonym\u001b[1;34m(word, pos)\u001b[0m\n\u001b[0;32m     26\u001b[0m \u001b[38;5;28;01mif\u001b[39;00m \u001b[38;5;129;01mnot\u001b[39;00m wordnet_pos:\n\u001b[0;32m     27\u001b[0m     \u001b[38;5;28;01mreturn\u001b[39;00m \u001b[38;5;28;01mNone\u001b[39;00m\n\u001b[1;32m---> 29\u001b[0m synsets \u001b[38;5;241m=\u001b[39m \u001b[43mwn\u001b[49m\u001b[38;5;241;43m.\u001b[39;49m\u001b[43msynsets\u001b[49m\u001b[43m(\u001b[49m\u001b[43mword\u001b[49m\u001b[43m,\u001b[49m\u001b[43m \u001b[49m\u001b[43mpos\u001b[49m\u001b[38;5;241;43m=\u001b[39;49m\u001b[43mwordnet_pos\u001b[49m\u001b[43m)\u001b[49m\n\u001b[0;32m     30\u001b[0m \u001b[38;5;28;01mif\u001b[39;00m synsets:\n\u001b[0;32m     31\u001b[0m     lemmas \u001b[38;5;241m=\u001b[39m synsets[\u001b[38;5;241m0\u001b[39m]\u001b[38;5;241m.\u001b[39mlemmas()\n",
      "File \u001b[1;32mc:\\Users\\damic\\anaconda3\\envs\\nlp_env2\\lib\\site-packages\\nltk\\corpus\\reader\\wordnet.py:1750\u001b[0m, in \u001b[0;36mWordNetCorpusReader.synsets\u001b[1;34m(self, lemma, pos, lang, check_exceptions)\u001b[0m\n\u001b[0;32m   1743\u001b[0m \u001b[38;5;28;01mdef\u001b[39;00m \u001b[38;5;21msynsets\u001b[39m(\u001b[38;5;28mself\u001b[39m, lemma, pos\u001b[38;5;241m=\u001b[39m\u001b[38;5;28;01mNone\u001b[39;00m, lang\u001b[38;5;241m=\u001b[39m\u001b[38;5;124m\"\u001b[39m\u001b[38;5;124meng\u001b[39m\u001b[38;5;124m\"\u001b[39m, check_exceptions\u001b[38;5;241m=\u001b[39m\u001b[38;5;28;01mTrue\u001b[39;00m):\n\u001b[0;32m   1744\u001b[0m \u001b[38;5;250m    \u001b[39m\u001b[38;5;124;03m\"\"\"Load all synsets with a given lemma and part of speech tag.\u001b[39;00m\n\u001b[0;32m   1745\u001b[0m \u001b[38;5;124;03m    If no pos is specified, all synsets for all parts of speech\u001b[39;00m\n\u001b[0;32m   1746\u001b[0m \u001b[38;5;124;03m    will be loaded.\u001b[39;00m\n\u001b[0;32m   1747\u001b[0m \u001b[38;5;124;03m    If lang is specified, all the synsets associated with the lemma name\u001b[39;00m\n\u001b[0;32m   1748\u001b[0m \u001b[38;5;124;03m    of that language will be returned.\u001b[39;00m\n\u001b[0;32m   1749\u001b[0m \u001b[38;5;124;03m    \"\"\"\u001b[39;00m\n\u001b[1;32m-> 1750\u001b[0m     lemma \u001b[38;5;241m=\u001b[39m \u001b[43mlemma\u001b[49m\u001b[38;5;241;43m.\u001b[39;49m\u001b[43mlower\u001b[49m()\n\u001b[0;32m   1752\u001b[0m     \u001b[38;5;28;01mif\u001b[39;00m lang \u001b[38;5;241m==\u001b[39m \u001b[38;5;124m\"\u001b[39m\u001b[38;5;124meng\u001b[39m\u001b[38;5;124m\"\u001b[39m:\n\u001b[0;32m   1753\u001b[0m         get_synset \u001b[38;5;241m=\u001b[39m \u001b[38;5;28mself\u001b[39m\u001b[38;5;241m.\u001b[39msynset_from_pos_and_offset\n",
      "\u001b[1;31mAttributeError\u001b[0m: 'dict' object has no attribute 'lower'"
     ]
    }
   ],
   "source": [
    "from nltk.corpus import wordnet as wn\n",
    "\n",
    "\n",
    "def get_name_synonym(entry):\n",
    "\n",
    "    for word in entry[\"wsd\"][\"hypothesis\"]:\n",
    "        if word[\"pos\"]=='NOUN':\n",
    "            word_sense = wn.synset(word[\"nltkSynset\"], pos='NOUN')\n",
    "            index =  \n",
    "            print(word_sense)\n",
    "\n",
    "            lemmas = word_sense.lemmas()\n",
    "            for lemma in lemmas:\n",
    "                # Return the first synonym different from the original word\n",
    "                if lemma.name() != word_sense.name().split('.')[0]:\n",
    "                    return lemma.name()  # Return the synonym\n",
    "                \n",
    "    return None  # Return None if no synonyms are found\n",
    "\n",
    "\n",
    "for i in range(1000):\n",
    "    print(get_synonym(fever_plus[\"train\"][i], pos='NOUN'))"
   ]
  },
  {
   "cell_type": "code",
   "execution_count": 9,
   "metadata": {},
   "outputs": [
    {
     "name": "stdout",
     "output_type": "stream",
     "text": [
      "None\n",
      "None\n"
     ]
    },
    {
     "ename": "KeyError",
     "evalue": "'word'",
     "output_type": "error",
     "traceback": [
      "\u001b[1;31m---------------------------------------------------------------------------\u001b[0m",
      "\u001b[1;31mKeyError\u001b[0m                                  Traceback (most recent call last)",
      "Cell \u001b[1;32mIn[9], line 45\u001b[0m\n\u001b[0;32m     43\u001b[0m \u001b[38;5;66;03m# Example usage\u001b[39;00m\n\u001b[0;32m     44\u001b[0m \u001b[38;5;28;01mfor\u001b[39;00m i \u001b[38;5;129;01min\u001b[39;00m \u001b[38;5;28mrange\u001b[39m(\u001b[38;5;241m1000\u001b[39m):\n\u001b[1;32m---> 45\u001b[0m     \u001b[38;5;28mprint\u001b[39m(\u001b[43mget_synonym_for_verb\u001b[49m\u001b[43m(\u001b[49m\u001b[43mfever_plus\u001b[49m\u001b[43m[\u001b[49m\u001b[38;5;124;43m\"\u001b[39;49m\u001b[38;5;124;43mtrain\u001b[39;49m\u001b[38;5;124;43m\"\u001b[39;49m\u001b[43m]\u001b[49m\u001b[43m[\u001b[49m\u001b[43mi\u001b[49m\u001b[43m]\u001b[49m\u001b[43m)\u001b[49m)\n",
      "Cell \u001b[1;32mIn[9], line 23\u001b[0m, in \u001b[0;36mget_synonym_for_verb\u001b[1;34m(entry)\u001b[0m\n\u001b[0;32m     20\u001b[0m base_form_synonym \u001b[38;5;241m=\u001b[39m lemma\u001b[38;5;241m.\u001b[39mname()  \u001b[38;5;66;03m# The base form of the synonym\u001b[39;00m\n\u001b[0;32m     22\u001b[0m \u001b[38;5;66;03m# Convert base form to the appropriate tense\u001b[39;00m\n\u001b[1;32m---> 23\u001b[0m original_word \u001b[38;5;241m=\u001b[39m \u001b[43mword\u001b[49m\u001b[43m[\u001b[49m\u001b[38;5;124;43m\"\u001b[39;49m\u001b[38;5;124;43mword\u001b[39;49m\u001b[38;5;124;43m\"\u001b[39;49m\u001b[43m]\u001b[49m  \u001b[38;5;66;03m# The original verb from your dataset\u001b[39;00m\n\u001b[0;32m     24\u001b[0m inflected_synonym \u001b[38;5;241m=\u001b[39m inflect_verb(original_word, base_form_synonym)\n\u001b[0;32m     25\u001b[0m \u001b[38;5;28;01mreturn\u001b[39;00m inflected_synonym\n",
      "\u001b[1;31mKeyError\u001b[0m: 'word'"
     ]
    }
   ],
   "source": [
    "import nltk\n",
    "from nltk.corpus import wordnet as wn\n",
    "from nltk.stem import WordNetLemmatizer\n",
    "import inflect\n",
    "\n",
    "# Initialize the inflector and lemmatizer\n",
    "lemmatizer = WordNetLemmatizer()\n",
    "inflector = inflect.engine()\n",
    "\n",
    "def get_synonym_for_verb(entry):\n",
    "    \"\"\"Get the synonym for the first verb and match its tense.\"\"\"\n",
    "    for word in entry[\"wsd\"][\"hypothesis\"]:\n",
    "        if word[\"pos\"] == 'VERB':\n",
    "            word_sense = wn.synset(word[\"nltkSynset\"])\n",
    "            \n",
    "            lemmas = word_sense.lemmas()\n",
    "            for lemma in lemmas:\n",
    "                # Check if synonym is different from original verb\n",
    "                if lemma.name() != word_sense.name().split('.')[0]:\n",
    "                    base_form_synonym = lemma.name()  # The base form of the synonym\n",
    "                    \n",
    "                    # Convert base form to the appropriate tense\n",
    "                    original_word = word[\"word\"]  # The original verb from your dataset\n",
    "                    inflected_synonym = inflect_verb(original_word, base_form_synonym)\n",
    "                    return inflected_synonym\n",
    "                \n",
    "    return None  # Return None if no synonym is found\n",
    "\n",
    "def inflect_verb(original_word, base_form_synonym):\n",
    "    \"\"\"Inflect the base form of the synonym to match the original verb's tense.\"\"\"\n",
    "    original_lemma = lemmatizer.lemmatize(original_word, 'v')  # Get base form of the original verb\n",
    "\n",
    "    # Handle different tenses using inflect\n",
    "    if original_word == original_lemma:  # Present tense or base form\n",
    "        return base_form_synonym\n",
    "    elif original_word.endswith('ing'):  # Present participle\n",
    "        return inflector.present_participle(base_form_synonym)\n",
    "    elif original_word.endswith('ed'):  # Past tense or past participle\n",
    "        return inflector.past(base_form_synonym)\n",
    "    else:\n",
    "        return base_form_synonym  # Return base form if no tense matching is needed\n",
    "\n",
    "# Example usage\n",
    "for i in range(1000):\n",
    "    print(get_synonym_for_verb(fever_plus[\"train\"][i]))\n"
   ]
  }
 ],
 "metadata": {
  "kernelspec": {
   "display_name": "nlp_env2",
   "language": "python",
   "name": "python3"
  },
  "language_info": {
   "codemirror_mode": {
    "name": "ipython",
    "version": 3
   },
   "file_extension": ".py",
   "mimetype": "text/x-python",
   "name": "python",
   "nbconvert_exporter": "python",
   "pygments_lexer": "ipython3",
   "version": "3.10.10"
  }
 },
 "nbformat": 4,
 "nbformat_minor": 2
}
