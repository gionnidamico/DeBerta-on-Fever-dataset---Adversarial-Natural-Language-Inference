{
 "cells": [
  {
   "cell_type": "code",
   "execution_count": 1,
   "metadata": {},
   "outputs": [],
   "source": [
    "# Simple parameters of this augmentation\n",
    "OUTPUT_PATH = 'Augmented Datasets/'\n",
    "\n",
    "import pandas as pd\n",
    "import os\n",
    "\n",
    "# Create the directory if it doesn't exist\n",
    "if not os.path.exists(OUTPUT_PATH):   \n",
    "    os.makedirs(OUTPUT_PATH)\n",
    "\n",
    "\n",
    "import torch\n",
    "# Check if GPU is available, otherwise use CPU\n",
    "device = torch.device(\"cuda\" if torch.cuda.is_available() else \"cpu\")\n"
   ]
  },
  {
   "cell_type": "code",
   "execution_count": 2,
   "metadata": {},
   "outputs": [
    {
     "name": "stderr",
     "output_type": "stream",
     "text": [
      "c:\\Users\\damic\\anaconda3\\envs\\nlp_env2\\lib\\site-packages\\tqdm\\auto.py:21: TqdmWarning: IProgress not found. Please update jupyter and ipywidgets. See https://ipywidgets.readthedocs.io/en/stable/user_install.html\n",
      "  from .autonotebook import tqdm as notebook_tqdm\n"
     ]
    }
   ],
   "source": [
    "# Load datasets\n",
    "from datasets import load_dataset\n",
    "\n",
    "fever_plus = load_dataset(\"tommasobonomo/sem_augmented_fever_nli\")"
   ]
  },
  {
   "cell_type": "code",
   "execution_count": 3,
   "metadata": {},
   "outputs": [
    {
     "ename": "TypeError",
     "evalue": "WordNetCorpusReader.synset() got an unexpected keyword argument 'pos'",
     "output_type": "error",
     "traceback": [
      "\u001b[1;31m---------------------------------------------------------------------------\u001b[0m",
      "\u001b[1;31mTypeError\u001b[0m                                 Traceback (most recent call last)",
      "Cell \u001b[1;32mIn[3], line 22\u001b[0m\n\u001b[0;32m     18\u001b[0m     \u001b[38;5;28;01mreturn\u001b[39;00m \u001b[38;5;28;01mNone\u001b[39;00m  \u001b[38;5;66;03m# Return None if no synonyms are found\u001b[39;00m\n\u001b[0;32m     21\u001b[0m \u001b[38;5;28;01mfor\u001b[39;00m i \u001b[38;5;129;01min\u001b[39;00m \u001b[38;5;28mrange\u001b[39m(\u001b[38;5;241m1000\u001b[39m):\n\u001b[1;32m---> 22\u001b[0m     \u001b[38;5;28mprint\u001b[39m(\u001b[43mget_synonym\u001b[49m\u001b[43m(\u001b[49m\u001b[43mfever_plus\u001b[49m\u001b[43m[\u001b[49m\u001b[38;5;124;43m\"\u001b[39;49m\u001b[38;5;124;43mtrain\u001b[39;49m\u001b[38;5;124;43m\"\u001b[39;49m\u001b[43m]\u001b[49m\u001b[43m[\u001b[49m\u001b[43mi\u001b[49m\u001b[43m]\u001b[49m\u001b[43m,\u001b[49m\u001b[43m \u001b[49m\u001b[43mpos\u001b[49m\u001b[38;5;241;43m=\u001b[39;49m\u001b[38;5;124;43m'\u001b[39;49m\u001b[38;5;124;43mNOUN\u001b[39;49m\u001b[38;5;124;43m'\u001b[39;49m\u001b[43m)\u001b[49m)\n",
      "Cell \u001b[1;32mIn[3], line 8\u001b[0m, in \u001b[0;36mget_synonym\u001b[1;34m(entry, pos)\u001b[0m\n\u001b[0;32m      6\u001b[0m \u001b[38;5;28;01mfor\u001b[39;00m word \u001b[38;5;129;01min\u001b[39;00m entry[\u001b[38;5;124m\"\u001b[39m\u001b[38;5;124mwsd\u001b[39m\u001b[38;5;124m\"\u001b[39m][\u001b[38;5;124m\"\u001b[39m\u001b[38;5;124mhypothesis\u001b[39m\u001b[38;5;124m\"\u001b[39m]:\n\u001b[0;32m      7\u001b[0m     \u001b[38;5;28;01mif\u001b[39;00m word[\u001b[38;5;124m\"\u001b[39m\u001b[38;5;124mpos\u001b[39m\u001b[38;5;124m\"\u001b[39m]\u001b[38;5;241m==\u001b[39mpos:\n\u001b[1;32m----> 8\u001b[0m         word_sense \u001b[38;5;241m=\u001b[39m \u001b[43mwn\u001b[49m\u001b[38;5;241;43m.\u001b[39;49m\u001b[43msynset\u001b[49m\u001b[43m(\u001b[49m\u001b[43mword\u001b[49m\u001b[43m[\u001b[49m\u001b[38;5;124;43m\"\u001b[39;49m\u001b[38;5;124;43mnltkSynset\u001b[39;49m\u001b[38;5;124;43m\"\u001b[39;49m\u001b[43m]\u001b[49m\u001b[43m,\u001b[49m\u001b[43m \u001b[49m\u001b[43mpos\u001b[49m\u001b[38;5;241;43m=\u001b[39;49m\u001b[43mpos\u001b[49m\u001b[43m)\u001b[49m\n\u001b[0;32m      9\u001b[0m         \u001b[38;5;66;03m#index =  \u001b[39;00m\n\u001b[0;32m     10\u001b[0m         \u001b[38;5;28mprint\u001b[39m(word_sense)\n",
      "\u001b[1;31mTypeError\u001b[0m: WordNetCorpusReader.synset() got an unexpected keyword argument 'pos'"
     ]
    }
   ],
   "source": [
    "from nltk.corpus import wordnet as wn\n",
    "\n",
    "\n",
    "def get_synonym(entry, pos='NOUN'):\n",
    "\n",
    "    for word in entry[\"wsd\"][\"hypothesis\"]:\n",
    "        if word[\"pos\"]==pos:\n",
    "            word_sense = wn.synset(word[\"nltkSynset\"], pos=pos)\n",
    "            #index =  \n",
    "            print(word_sense)\n",
    "\n",
    "            lemmas = word_sense.lemmas()\n",
    "            for lemma in lemmas:\n",
    "                # Return the first synonym different from the original word\n",
    "                if lemma.name() != word_sense.name().split('.')[0]:\n",
    "                    return lemma.name()  # Return the synonym\n",
    "                \n",
    "    return None  # Return None if no synonyms are found\n",
    "\n",
    "\n",
    "for i in range(1000):\n",
    "    print(get_synonym(fever_plus[\"train\"][i], pos='NOUN'))"
   ]
  },
  {
   "cell_type": "code",
   "execution_count": 12,
   "metadata": {},
   "outputs": [
    {
     "name": "stdout",
     "output_type": "stream",
     "text": [
      "Original hypothesis: Roman Atwood is a content creator .\n",
      "Original hypothesis: The Boston Celtics play their home games at TD Garden .\n",
      "Original hypothesis: There is a movie called The Hunger Games .\n",
      "Original hypothesis: Ryan Seacrest is a person .\n",
      "Original hypothesis: Stranger than Fiction is a film .\n",
      "Original hypothesis: Selena recorded music .\n",
      "Original hypothesis: Selena recorded music .\n",
      "Original hypothesis: Selena recorded music .\n",
      "Original hypothesis: Selena recorded music .\n",
      "Original hypothesis: John Wick : Chapter 2 was theatrically released in the Oregon .\n",
      "-------------------------------\n",
      "Updated hypothesis: Roman Atwood is a content creator .\n",
      "Replacing 'home' with 'place'\n",
      "Replacing 'games' with 'game'\n",
      "Updated hypothesis: The Boston Celtics play their place game at TD Garden .\n",
      "Replacing 'movie' with 'film'\n",
      "Updated hypothesis: There is a film called The Hunger Games .\n",
      "Replacing 'person' with 'individual'\n",
      "Updated hypothesis: Ryan Seacrest is a individual .\n",
      "Replacing 'film' with 'movie'\n",
      "Updated hypothesis: Stranger than Fiction is a movie .\n",
      "Updated hypothesis: Selena recorded music .\n",
      "Updated hypothesis: Selena recorded music .\n",
      "Updated hypothesis: Selena recorded music .\n",
      "Updated hypothesis: Selena recorded music .\n",
      "Replacing 'Chapter' with 'chapter'\n",
      "Updated hypothesis: John Wick : chapter 2 was theatrically released in the Oregon .\n"
     ]
    }
   ],
   "source": [
    "from nltk.corpus import wordnet as wn\n",
    "\n",
    "def get_synonym(word, pos='n'):\n",
    "    try:\n",
    "        word_sense = wn.synset(word[\"nltkSynset\"])\n",
    "        lemmas = word_sense.lemmas()\n",
    "        \n",
    "        # Find a synonym that is not the original word\n",
    "        for lemma in lemmas:\n",
    "            if lemma.name() != word[\"text\"]:  # Compare with original word text\n",
    "                print(f\"Replacing '{word['text']}' with '{lemma.name()}'\")\n",
    "                return lemma.name()  # Return the synonym\n",
    "    except:\n",
    "        return word[\"text\"]  # Return the original word if any error occurs\n",
    "    \n",
    "    return word[\"text\"]  # Return the original word if no synonym is found\n",
    "\n",
    "def replace_nouns_with_synonyms(entry, pos='NOUN'):\n",
    "    updated_hypothesis = []  # Collect updated words\n",
    "    for word in entry[\"wsd\"][\"hypothesis\"]:\n",
    "        if word[\"pos\"] == pos:  # Check if the word is a noun\n",
    "            synonym = get_synonym(word, pos='n')\n",
    "            updated_hypothesis.append(synonym)  # Replace with the synonym\n",
    "        else:\n",
    "            updated_hypothesis.append(word[\"text\"])  # Keep the original word\n",
    "    # Join the updated words into a single string hypothesis\n",
    "    entry[\"hypothesis\"] = ' '.join(updated_hypothesis)\n",
    "    return entry\n",
    "\n",
    "# Debug: Print the original hypotheses\n",
    "for i in range(10):\n",
    "    print(\"Original hypothesis:\", ' '.join([w[\"text\"] for w in fever_plus['train'][i][\"wsd\"][\"hypothesis\"]]))\n",
    "\n",
    "print('-------------------------------')\n",
    "\n",
    "# Apply the synonym replacement and print updated hypotheses\n",
    "for i in range(10):\n",
    "    updated_entry = replace_nouns_with_synonyms(fever_plus[\"train\"][i], pos='NOUN')\n",
    "    print(\"Updated hypothesis:\", updated_entry['hypothesis'])\n"
   ]
  }
 ],
 "metadata": {
  "kernelspec": {
   "display_name": "nlp_env2",
   "language": "python",
   "name": "python3"
  },
  "language_info": {
   "codemirror_mode": {
    "name": "ipython",
    "version": 3
   },
   "file_extension": ".py",
   "mimetype": "text/x-python",
   "name": "python",
   "nbconvert_exporter": "python",
   "pygments_lexer": "ipython3",
   "version": "3.10.10"
  }
 },
 "nbformat": 4,
 "nbformat_minor": 2
}
