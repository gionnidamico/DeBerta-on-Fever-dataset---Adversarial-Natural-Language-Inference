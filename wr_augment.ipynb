{
 "cells": [
  {
   "cell_type": "code",
   "execution_count": 13,
   "metadata": {},
   "outputs": [],
   "source": [
    "# Simple parameters of this augmentation\n",
    "SENTENCES_TO_KEEP = 2\n",
    "OUTPUT_PATH = 'Augmented Datasets/'\n",
    "\n",
    "import pandas as pd\n",
    "import os\n",
    "\n",
    "# Create the directory if it doesn't exist\n",
    "if not os.path.exists(OUTPUT_PATH):   \n",
    "    os.makedirs(OUTPUT_PATH)\n"
   ]
  },
  {
   "cell_type": "code",
   "execution_count": 47,
   "metadata": {},
   "outputs": [],
   "source": [
    "from datasets import load_dataset\n",
    "\n",
    "fever_plus = load_dataset(\"tommasobonomo/sem_augmented_fever_nli\")"
   ]
  },
  {
   "cell_type": "code",
   "execution_count": 48,
   "metadata": {},
   "outputs": [
    {
     "data": {
      "text/plain": [
       "Dataset({\n",
       "    features: ['id', 'premise', 'hypothesis', 'label', 'wsd', 'srl'],\n",
       "    num_rows: 51086\n",
       "})"
      ]
     },
     "execution_count": 48,
     "metadata": {},
     "output_type": "execute_result"
    }
   ],
   "source": [
    "fever_plus[\"train\"]"
   ]
  },
  {
   "cell_type": "code",
   "execution_count": 49,
   "metadata": {},
   "outputs": [
    {
     "data": {
      "text/plain": [
       "'roman'"
      ]
     },
     "execution_count": 49,
     "metadata": {},
     "output_type": "execute_result"
    }
   ],
   "source": [
    "i = 0\n",
    "fever_plus[\"train\"][i]['wsd']['premise'][0]['lemma']\n",
    "# for i in range(len(fever_plus[\"train\"])):\n",
    "#     print(get_first_N_sentences(fever_plus[\"train\"]['premise'][i], 1))"
   ]
  },
  {
   "cell_type": "code",
   "execution_count": 50,
   "metadata": {},
   "outputs": [
    {
     "name": "stdout",
     "output_type": "stream",
     "text": [
      "Colin Kaepernick . Kaepernick began his professional career as a backup to Alex Smith , but became the 49ers ' starter in the middle of the 2012 season after Smith suffered a concussion . He remained the team 's starting quarterback for the rest of the season and went on to lead the 49ers to their first Super Bowl appearance since 1994 , losing to the Baltimore Ravens .\n",
      "Mogadishu ( [ ˌmɔːɡəˈdiːʃuː ] Muqdisho [ mʉqdɪʃɔ ] ; مقديشو [ maqadiːʃuː ] ) , known locally as Hamar , is the capital and most populous city of Somalia . As Somalia 's capital city , many important national institutions are based in Mogadishu .\n",
      "Shooter (2007 film) . The film follows Force Recon veteran Bob Lee Swagger ( Mark Wahlberg ) , who is framed for murder by a rogue secret private military company unit . Shooter (TV series) . The show stars Ryan Phillippe in the lead role of Bob Lee Swagger an expert marksman living in exile who is coaxed back into action after learning of a plot to kill the president .\n",
      "Sir Donald George `` Don '' Bradman , AC ( 27 August 1908 -- 25 February 2001 ) , often referred to as `` The Don '' , was an Australian cricketer , widely acknowledged as the greatest batsman of all time . Bradman retained a pre-eminent position in the game by acting as an administrator , selector and writer for three decades following his retirement .\n",
      "Boardwalk is a 1979 American drama film written by Stephen Verona and Leigh Chapman and directed by Verona . Janet Leigh ( born Jeanette Helen Morrison ; July 6 , 1927 -- October 3 , 2004 ) was an American actress , singer , dancer and author . She also wrote four books between 1984 and 2002 , including two novels .\n",
      "Magic Johnson . He played point guard for the Lakers for 13 seasons . After winning championships in high school and college , Johnson was selected first overall in the 1979 NBA draft by the Lakers . He won a championship and an NBA Finals Most Valuable Player Award in his rookie season , and won four more championships with the Lakers during the 1980s . After protests from his fellow players , he retired again for four years , but returned in 1996 , at age 36 , to play 32 games for the Lakers before retiring for the third and final time . Named by Ebony magazine as one of America 's most influential black businessmen in 2009 , Johnson has numerous business interests , and was a part-owner of the Lakers for several years .\n",
      "Mel B . Brown began her solo career when she released `` I Want You Back '' with Missy Elliott on Virgin Records .\n",
      "Shane Black ( born December 16 , 1961 ) is an American screenwriter , director , producer and actor , known for writing the 1987 action film hit Lethal Weapon , and his directorial debut with the film Kiss Kiss Bang Bang in 2005 .\n",
      "Papua is the largest and easternmost province of Indonesia , comprising most of western New Guinea . It was formerly called Irian Jaya ( before that West Irian or Irian Barat ) and comprised all of Indonesian New Guinea .\n",
      "Viola Davis . She played supporting and minor roles in several films and television series in the late 1990s and early 2000s , including the films Kate & Leopold ( 2001 ) and Far from Heaven ( 2002 ) , and the television series Law & Order : Special Victims Unit .\n",
      "A&E ( previously Arts & Entertainment Network ) is an American cable and satellite television channel that serves as the flagship television property of A&E Networks , a joint venture between the Hearst Corporation and Disney -- ABC Television Group subsidiary of the Walt Disney Company ( both of which maintain a 50 % ownership interest ) .\n",
      "Christa McAuliffe . She took a teaching position as a social studies teacher at Concord High School in New Hampshire in 1983 .\n",
      "Danny Boyle ( born 20 October 1956 ) is an English director , producer , screenwriter and theatre director , known for his work on films including Shallow Grave , Trainspotting , The Beach , 28 Days Later , Sunshine , Slumdog Millionaire , 127 Hours , and Steve Jobs . The Beach is a 2000 adventure drama film directed by Danny Boyle and based on the 1996 novel of the same name by Alex Garland , which was adapted for the film by John Hodge .\n",
      "Ralph Fults ( January 23 , 1911 -- March 16 , 1993 ) was a Depression-era outlaw and escape artist associated with Raymond Hamilton , Bonnie Parker and Clyde Barrow of the Barrow Gang .\n",
      "Miracle at St. Anna . Set primarily in Italy during German-occupied Europe in World War II , the film tells the story of four Buffalo Soldiers of the 92nd Infantry Division who seek refuge in a small Tuscan village , where they form a bond with the residents . The story is presented as a flashback , as one survivor reflects upon his experiences in a frame story set in 1980s New York .\n",
      "Home for the Holidays (1995 film) . The film stars Holly Hunter , Robert Downey Jr. , Anne Bancroft , Charles Durning , Dylan McDermott , Geraldine Chaplin , Steve Guttenberg , Cynthia Stevenson , Claire Danes , Austin Pendleton and David Strathairn .\n",
      "The Mod Squad is an American crime drama series that ran on ABC from 1968 to 1973 .\n",
      "John Hovig Dolmayan ( Ջոն Դոլմայան , born July 15 , 1973 ) is a Lebanese-born Armenian -- American songwriter and drummer .\n",
      "T2 Trainspotting is a 2017 British comedy drama film , set in and around Edinburgh , Scotland .\n",
      "Palo Alto ( [ ˌpæloʊ_ˈæltoʊ ] ; [ ˈpalo ˈalto ] ; from palo , literally `` stick '' , colloquially `` tree '' , and alto `` tall '' ; meaning : `` tall tree '' ) is a charter city located in the northwest corner of Santa Clara County , California , in the San Francisco Bay Area of the United States .\n",
      "Stripes is a 1981 American buddy military comedy film directed by Ivan Reitman , starring Bill Murray , Harold Ramis , Warren Oates , P. J. Soles , Sean Young , and John Candy . Several actors including John Larroquette , John Diehl , Conrad Dunn and Judge Reinhold were featured in their first significant film roles . Joe Flaherty , Dave Thomas , Timothy Busfield and Bill Paxton also appeared early in their careers .\n",
      "Johanna Braddy . She also starred in a main role as Jenny Matrix in the hit web series Video Game High School from 2012 to 2014 . In 2015 , Braddy co-starred as Anna Martin in the Lifetime dark comedy-drama series , Unreal . , she is starring as Shelby Wyatt in the ABC thriller Quantico .\n",
      "T2 Trainspotting is a 2017 British comedy drama film , set in and around Edinburgh , Scotland .\n",
      "Derek Hough . In 2013 , he starred in Make Your Move , a Romeo and Juliet-inspired South Korean-American independent dance film .\n",
      "DreamWorks Animation . The studio has currently released a total of 34 feature films , including the franchises Shrek , its prequel-spinoff Puss in Boots , Madagascar , Kung Fu Panda , How to Train Your Dragon , and Trolls , and other hits including Monsters vs. Aliens ( 2009 ) , Rise of the Guardians ( 2012 ) , The Croods ( 2013 ) and Home ( 2015 ) . Trollhunters is an American computer-animated fantasy television series created for Netflix by Guillermo del Toro and produced by DreamWorks Animation and Double Dare You .\n",
      "Fox News . Rupert Murdoch is the current chairman and acting CEO of Fox News . James Rupert Jacob Murdoch ( [ ˈmɜrdɒk ] born 13 December 1972 ) is an Australian , British , American businessman , the younger son of media mogul Rupert Murdoch , the chief executive officer ( CEO ) of 21st Century Fox , and chairman of Sky plc. . Rupert Murdoch . Murdoch thus had full control as Chairman and CEO of global media holding company News Corporation , now the world 's second-largest media conglomerate , and its successors , News Corp and 21st Century Fox , after the conglomerate split on 28 June 2013 .\n",
      "The CONCACAF Champions League is an annual continental football club competition organized by CONCACAF for the top football clubs in North America , Central America and the Caribbean . The competition was originally known as the CONCACAF Champions ' Cup when it was first organized in 1962 .\n",
      "Canadian folklore . It includes songs , legends , jokes , rhymes , proverbs , weather lore , superstitions , and practices such as traditional food-making and craft-making . Folklore . These include oral traditions such as tales , proverbs and jokes .\n",
      "Kentucky . Kentucky is known as the `` Bluegrass State '' , a nickname based on the bluegrass found in many of its pastures due to the fertile soil . One of the major regions in Kentucky is the Bluegrass Region in central Kentucky , which houses two of its major cities , Louisville and Lexington . Kentucky is also known for horse racing , bourbon distilleries , coal , the historic site My Old Kentucky Home , automobile manufacturing , tobacco , bluegrass music , college basketball , and Kentucky Fried Chicken .\n",
      "The Closer . On Monday , July 11 , 2011 , the series began its seventh and final season , having finished its sixth season as cable 's highest rated drama .\n",
      "Underdog (film) . Directed by Frederik Du Chau and written by Joe Piscatella , Adam Rifkin , and Craig A. Williams , the film stars Jim Belushi , Peter Dinklage , John Slattery , and Patrick Warburton with the voice talents of Jason Lee , Amy Adams , and Brad Garrett .\n",
      "Bret Easton Ellis . Ellis also wrote the screenplay for the critically derided 2013 film The Canyons , an original work . The Canyons is a 2013 American erotic thriller-drama film directed by Paul Schrader and written by Bret Easton Ellis .\n",
      "Audioslave . The four-piece band consisted of Soundgarden lead singer/rhythm guitarist Chris Cornell , and Rage Against the Machine members Tom Morello ( lead guitar ) , Tim Commerford ( bass/backing vocals ) , and Brad Wilk ( drums ) . Brad Wilk . He is best known as the drummer of the rock bands Rage Against the Machine ( 1991 -- 2000 ; 2007 -- 11 ) and Audioslave ( 2001 -- 07 ) . Wilk started his career as a drummer for Greta in 1990 , and helped co-found Rage with Tom Morello and Zack de la Rocha in August 1991 . As of 2016 , he is playing in the band Prophets of Rage , with Commerford , Morello , Chuck D , B-Real and DJ Lord . Rage Against the Machine . Formed in 1991 , the group consists of rapper and vocalist Zack de la Rocha , bassist and backing vocalist Tim Commerford , guitarist Tom Morello , and drummer Brad Wilk .\n",
      "Rage Against the Machine . The same year , growing tensions over the direction of the band prompted de la Rocha to quit , leading to the band 's breakup . De la Rocha started a low-key solo career , while the rest of the band formed the rock supergroup Audioslave with Chris Cornell , then-former frontman of Soundgarden ; Audioslave recorded three albums before disbanding in 2007 . The same year , Rage Against the Machine announced a reunion and performed together for the first time in seven years at the Coachella Valley Music and Arts Festival in April 2007 . Renegades is the fourth studio album by the American rap metal band Rage Against the Machine , released on December 5 , 2000 by Epic Records .\n",
      "David Spade . He also starred and co-starred in the films Tommy Boy , Black Sheep , Joe Dirt , Joe Dirt 2 : Beautiful Loser , Grown Ups , and Grown Ups 2 , among others . Joe Dirt 2 : Beautiful Loser is a 2015 American comedy film directed by Fred Wolf and written by David Spade and Fred Wolf .\n",
      "Tom Baker (English actor) . In addition to performing acting roles , Baker has narrated commercials , video games , audiobooks and television series .\n",
      "Daag ( translation : The Stain ) is a 1952 Indian Hindi film produced and directed by Amiya Chakravarty .\n",
      "Carlos Santana ( born July 20 , 1947 ) is a Mexican and American musician who first became famous in the late 1960s and early 1970s with his band , Santana , which pioneered a fusion of rock and Latin American music . Santana is an American Latin rock band formed in San Francisco , California in 1966 by Mexican-American guitarist Carlos Santana .\n",
      "Harry Potter . The novels chronicle the life of a young wizard , Harry Potter , and his friends Hermione Granger and Ron Weasley , all of whom are students at Hogwarts School of Witchcraft and Wizardry . Ronald Bilius `` Ron '' Weasley is a fictional character in J. K. Rowling 's Harry Potter series . His first appearance was in the first book of the series , Harry Potter and the Philosopher 's Stone as the best friend of Harry Potter and Hermione Granger .\n",
      "CHiPs is an American television drama series that originally aired on NBC from September 15 , 1977 , to May 1 , 1983 . CHiPs is a 2017 American action comedy buddy cop film written and directed by Dax Shepard , based on the 1977 -- 1983 television series of the same name created by Rick Rosner . Principal photography began on October 21 , 2015 in Los Angeles . The film was released on March 24 , 2017 by Warner Bros. .\n",
      "New Orleans Pelicans . The Pelicans compete in the National Basketball Association ( NBA ) as a member club of the league 's Western Conference Southwest Division .\n",
      "Moonlight (2016 film) . Filmed in Miami , Florida , beginning in 2015 , Moonlight premiered at the Telluride Film Festival on September 2 , 2016 . Moonlight (TV series) . Moonlight was premiered on September 28 , 2007 , and shown on Friday nights on CBS .\n",
      "Alien is a 1979 British-American science-fiction horror film directed by Ridley Scott , and starring Sigourney Weaver , Tom Skerritt , Veronica Cartwright , Harry Dean Stanton , John Hurt , Ian Holm and Yaphet Kotto . In 2008 , it was ranked as the seventh-best film in the science fiction genre by the American Film Institute , and as the 33rd greatest film of all time by Empire magazine . Daniel Thomas `` Dan '' O'Bannon ( September 30 , 1946 -- December 17 , 2009 ) was an American film screenwriter , director , visual effects supervisor , and occasional actor , usually in the science fiction and horror genres . He also contributed computer animation to Star Wars , worked on cult classics such as Dark Star , Heavy Metal and Total Recall , and both wrote and directed the horror comedy The Return of the Living Dead . The film-poem ( also called the poetic avant-garde film , verse-film or verse-documentary ) is a label first applied to American avant-garde films released after World War II .\n",
      "The Good Wife is an American legal and political drama television series that aired on CBS from September 22 , 2009 , to May 8 , 2016 . With the current climate of how television shows are written and produced , The Good Wife is considered by several critics to be network television 's last great drama producing a full 22 episode season while other and future acclaimed shows are in favor of shorter 6 -- 12 episode seasons .\n",
      "In the End . `` In the End '' received positive reviews by music critics , with most reviewers complimenting the song 's signature piano riff , as well as noting rapper Mike Shinoda 's vocal prominence in the song .\n",
      "Riverdale is an American teen drama television series based on the characters by Archie Comics . It was adapted for television by Archie Comics ' chief creative officer Roberto Aguirre-Sacasa and executive produced by Greg Berlanti . The show features an ensemble cast based on the characters of Archie Comics , with KJ Apa in the role of Archie Andrews , Lili Reinhart as Betty Cooper , his next door neighbor who also happens to be crushing on him , Camila Mendes as Veronica Lodge , his new love interest that just strolled into town and Cole Sprouse as Jughead Jones , his ex-best friend and the narrator of the show .\n",
      "Saxony . Saxony is the tenth largest of Germany 's sixteen states , with an area of 18,413 km2 , and the sixth most populous , with 4 million people . Located in the middle of a large , formerly all German-speaking part of Europe , the history of the state of Saxony spans more than a millennium . Saxony ( Sachsen ) is a region for quality wine in Germany located in the German federal state of Saxony . Together with the Saale-Unstrut wine region , Saxony is one of the northernmost wine regions in Europe and are the only two of Germany 's 13 wine regions that are located in the former East Germany .\n",
      "Anne Rice ( born Howard Allen Frances O'Brien ; October 4 , 1941 ) is an American author of gothic fiction , Christian literature , and erotica . Born in New Orleans , Rice spent much of her early life there before moving to Texas , and later to San Francisco .\n",
      "Star Trek : Discovery is an upcoming American television series created by Bryan Fuller and Alex Kurtzman for CBS All Access . It is the first series developed specifically for that service , and the first Star Trek series since Star Trek : Enterprise concluded in 2005 .\n",
      "Stripes (film) . Several actors including John Larroquette , John Diehl , Conrad Dunn and Judge Reinhold were featured in their first significant film roles .\n",
      "Noah Cyrus . She is the youngest daughter of Billy Ray Cyrus and younger sister of Miley Cyrus and Trace Cyrus .\n",
      "Private Lives is a 1930 comedy of manners in three acts by Noël Coward .\n",
      "Taran Hourie Killam ( born April 1 , 1982 ) is an American actor , comedian , and writer .\n",
      "House is a Canadian drama film , released in 1995 . House ( also called House , M.D. ) is an American television medical drama that originally ran on the Fox network for eight seasons , from November 16 , 2004 to May 21 , 2012 . A legal drama or a courtroom drama is a subgenre of drama and crime fiction .\n",
      "Goosebumps (film) . It was directed by Rob Letterman , and written by Darren Lemke , based from a story by Scott Alexander and Larry Karaszewski .\n",
      "Bones is a 2010 drama film directed by Frank Pestarino and starring Jimmy Bennett , Melissa Ordway , Zakk Wylde , Jonna Walsh and Jesse James . Bones is an American crime procedural drama television series that aired on Fox in the United States from September 13 , 2005 , until March 28 , 2017 , for 246 episodes over twelve seasons . The show is based on forensic anthropology and forensic archaeology , with each episode focusing on an FBI case file concerning the mystery behind human remains brought by FBI Special Agent Seeley Booth ( David Boreanaz ) to forensic anthropologist Dr. Temperance `` Bones '' Brennan ( Emily Deschanel ) and the personal lives of the characters .\n",
      "Wildfang . The company was founded in 2010 by Emma Mcilroy and Julia Parsley , who previously worked at Nike , Inc. in Portland , Oregon .\n",
      "Kelly Preston ( born October 13 , 1962 ) is an American actress and former model .\n",
      "José Vicente Ferrer de Otero y Cintrón ( January 8 , 1912 -- January 26 , 1992 ) , known as José Ferrer , was an American actor and theatre and film director . He was the first Puerto Rican-born actor , as well as the first Hispanic actor , to win an Academy Award ( in 1950 for Cyrano de Bergerac ) . In 1947 , Ferrer won the Tony Award for his theatrical performance of Cyrano de Bergerac , and in 1952 , he won the Distinguished Dramatic Actor Award for The Shrike , and also the Outstanding Director Award for directing the plays The Shrike , The Fourposter , and Stalag 17 . Ferrer 's contributions to American theatre were recognized in 1981 , when he was inducted into the American Theater Hall of Fame . In 1985 he received the National Medal of Arts from Ronald Reagan , becoming the first actor to receive that honor .\n",
      "Daniel Thomas `` Dan '' O'Bannon ( September 30 , 1946 -- December 17 , 2009 ) was an American film screenwriter , director , visual effects supervisor , and occasional actor , usually in the science fiction and horror genres .\n",
      "Vietnam is primarily a source country for women and children trafficked for commercial sexual exploitation and forced labor . Vietnam ( ˌ ; [ vîət nāːm ] ) , officially the Socialist Republic of Vietnam ( SRV ; , is the easternmost country on the Indochina Peninsula in Southeast Asia . With an estimated 92.7 million inhabitants , it is the world 's 14th-most-populous country , and the ninth-most-populous Asian country . It is also a member of the Asia-Pacific Economic Cooperation and the Organisation Internationale de la Francophonie . Vietnam remains one of the world 's four remaining one-party socialist states officially espousing communism .\n",
      "Kingdom Hearts . The series primarily centers on the main character Sora and his journey and experiences with various Disney , Final Fantasy and The World Ends with You characters , whilst stopping the various incarnations of the primary antagonist Xehanort throughout the series . is a fictional character and the protagonist of Square Enix 's Kingdom Hearts video game series . For his depiction as a child in the prequel Kingdom Hearts Birth by Sleep , Sora was voiced by Luke Manriquez and Takuto Yoshinaga in English and Japanese , respectively .\n",
      "Billie Joe Armstrong ( born February 17 , 1972 ) is an American musician , singer , songwriter and actor who is best known as the lead vocalist , primary songwriter , and guitarist of the punk rock band Green Day , which he co-founded with Mike Dirnt .\n",
      "Duane Lee `` Dog '' Chapman I. ( born February 2 , 1953 ) is an American bounty hunter and a former bail bondsman .\n",
      "Marvel vs. Capcom : Infinite is an upcoming fighting video game in development by Capcom . It is the sixth main entry in the Marvel vs. Capcom series of crossover games . Like previous installments , players control characters from both the Marvel Comics and Capcom universes to compete in tag team battles . Infinite features two-on-two fights , as opposed to the three-on-three format used in its preceding titles .\n",
      "Henry VIII (TV serial) . It stars Ray Winstone in his first role in a costume drama . His co-star is Helena Bonham Carter who played Henry VIII 's second wife , Anne Boleyn ; her character dominates the first episode and her dramatic death brings the first part of the story to its conclusion . The second episode , which follows the last eleven years of Henry 's life , sees Winstone act opposite Emilia Fox , as his docile third wife Jane Seymour , Sean Bean as Robert Aske , leader of the Pilgrimage of Grace , and Emily Blunt ( in her first major appearance ) as Catherine Howard , the promiscuous teenager who was coerced into becoming Henry 's fifth queen .\n",
      "Timothy Simon Roth ( born 14 May 1961 ) is an English actor and director . Tim Roth ( born December 6 , 1975 ) is the guitarist , backing vocalist and only remaining founding member of Canadian melodic death metal and progressive metal band , Into Eternity .\n",
      "Excuse My French is the debut studio album by American rapper French Montana .\n",
      "The Adventures of Pluto Nash is a 2002 Australian-American science fiction action comedy film starring Eddie Murphy ( in a dual role ) and directed by Ron Underwood . The film was released in the United States on August 16 , 2002 .\n",
      "Pearl Jam is an American rock band formed in Seattle , Washington , in 1990 . Pearl Jam has outlasted and outsold many of its contemporaries from the alternative rock breakthrough of the early 1990s , and is considered one of the most influential bands of that decade .\n",
      "Speech recognition . It incorporates knowledge and research in the linguistics , computer science , and electrical engineering fields .\n",
      "Tool (band) . Tool has won three Grammy Awards , performed worldwide tours , and produced albums topping the charts in several countries .\n",
      "Damon Albarn . His debut solo studio album Everyday Robots -- co-produced by XL Recordings CEO Richard Russell -- was released on 28 April 2014 and featured collaborations with Brian Eno , Natasha Khan and the Leytonstone City Pentecostal Mission Church Choir as well as sampling several rants by Lord Buckley .\n",
      "Matthew Gray Gubler ( born March 9 , 1980 ) is an American actor , director , fashion model and painter . He is best known for his role as criminal profiler Dr. Spencer Reid in the CBS television show Criminal Minds ( 2005 -- present ) , of which he has also directed ten episodes . Gubler has appeared in The Life Aquatic with Steve Zissou , ( 500 ) Days of Summer , Life After Beth , Suburban Gothic , and as the voice of Simon in Alvin and the Chipmunks and its three sequels .\n",
      "St. Anger is the eighth studio album by American heavy metal band Metallica , released on June 5 , 2003 , by Elektra Records . `` St. Anger '' is a song by American heavy metal group Metallica . It was released in June 2003 as the lead single from their eighth studio album of the same name .\n",
      "Raees (film) . It stars Shah Rukh Khan , Mahira Khan and Nawazuddin Siddiqui .\n",
      "Rob Sheridan ( born October 11 , 1979 ) is an American graphic designer , director , and photographer best known for his extensive work with the band Nine Inch Nails .\n",
      "Roswell is an American science fiction television series developed , produced , and co-written by Jason Katims .\n",
      "The CONCACAF Champions League is an annual continental football club competition organized by CONCACAF for the top football clubs in North America , Central America and the Caribbean .\n",
      "The 100 ( pronounced The Hundred ) is an American post-apocalyptic science fiction drama television series that premiered on March 19 , 2014 , on The CW . The series follows a group of teens : Clarke Griffin ( Eliza Taylor ) , Bellamy Blake ( Bob Morley ) , Octavia Blake ( Marie Avgeropoulos ) , Jasper Jordan ( Devon Bostick ) , Monty Green ( Christopher Larkin ) , Raven Reyes ( Lindsey Morgan ) , Finn Collins ( Thomas McDonell ) , John Murphy ( Richard Harmon ) , and Wells Jaha ( Eli Goree ) as they are among the first people from a space habitat , `` The Ark '' , to return to Earth after a devastating nuclear apocalypse ; the series also focuses on Dr. Abby Griffin ( Paige Turco ) , Clarke 's mother ; Marcus Kane ( Henry Ian Cusick ) , a council member on the Ark ; and Thelonious Jaha ( Isaiah Washington ) , the Chancellor of the Ark and Wells ' father .\n",
      "CHiPs is a 2017 American action comedy buddy cop film written and directed by Dax Shepard , based on the 1977 -- 1983 television series of the same name created by Rick Rosner .\n",
      "The Tiber Oil Field is a deepwater offshore oil field located in the Keathley Canyon block 102 of the United States sector of the Gulf of Mexico . The deepwater field ( defined as water depth 1300 to , ) was discovered in September 2009 and it is operated by BP .\n",
      "Manmohan Singh . The first Sikh in office , Singh was also the first prime minister since Jawaharlal Nehru to be re-elected after completing a full five-year term .\n",
      "Natural Born Killers . The film is based on an original screenplay by Quentin Tarantino that was heavily revised by writer David Veloz , associate producer Richard Rutowski , and director Stone ; Tarantino received story credit .\n",
      "Stephen Hillenburg . Born in Lawton , Oklahoma and raised in Anaheim , California , Hillenburg became fascinated with the ocean as a child and also developed an interest in art .\n",
      "Marnie is a 1964 American psychological thriller film directed by Alfred Hitchcock .\n",
      "Yandex . The web site also operates in Belarus , Kazakhstan , Ukraine and Turkey .\n",
      "The Eighth Doctor is an incarnation of the Doctor , the protagonist of the BBC science fiction television series Doctor Who . The character was introduced in the 1996 TV film Doctor Who , a back-door pilot produced in an unsuccessful attempt to relaunch the series following its 1989 cancellation .\n",
      "John Deighton . When the California Gold Rush hit , ships were in demand to transport cargo and people from New York to San Francisco . Next , Deighton worked a gold claim in California , along with many others , until February 1858 when there was news of gold further north in a British territory known as New Caledonia .\n",
      "Giada at Home . It first aired on October 18 , 2008 on the Food Network .\n",
      "King of the Ring ( 1999 ) was the seventh annual King of the Ring professional wrestling pay-per-view event produced by the World Wrestling Federation ( WWF ) . King of the Ring ( 2000 ) was the eighth annual King of the Ring professional wrestling pay-per-view ( PPV ) event produced by World Wrestling Federation ( WWF ) . Shane Brandon McMahon ( born January 15 , 1970 ) is an American businessman and part-time professional wrestler who is a minority owner of WWE and the vice-chairman of Wecast Holdings Inc. . McMahon is a fourth-generation wrestling promoter as a member of the McMahon family . As a wrestler , he won the European Championship once and the Hardcore Championship once , and has wrestled in the main event of multiple WWE pay per views .\n",
      "Terry Crews . In football , Crews played as a defensive end and linebacker in the National Football League ( NFL ) for the Los Angeles Rams , San Diego Chargers and Washington Redskins , as well as in the World League of American Football with Rhein Fire .\n",
      "`` You Belong with Me '' is a song performed by American singer-songwriter Taylor Swift . The song won Favorite song at 2010 Kids ' Choice Awards , and received nominations for the Grammy Awards for Song of the Year , Record of the Year , and Best Female Pop Vocal Performance . In the United States , the song became Swift 's highest-charting single on the Billboard Hot 100 at the time and has become Swift 's third best-selling single . The song is one of the best-selling singles worldwide , with worldwide sales of more than 5.1 million units ( according to the IFPI ) . The song was performed live at numerous venues , including the 2009 -- 10 Fearless Tour , where it was the opening number .\n",
      "CHiPs is an American television drama series that originally aired on NBC from September 15 , 1977 , to May 1 , 1983 . CHiPs is a 2017 American action comedy buddy cop film written and directed by Dax Shepard , based on the 1977 -- 1983 television series of the same name created by Rick Rosner . The film stars Shepard as Officer Jon Baker and Michael Peña as Frank `` Ponch '' Poncherello , with Rosa Salazar , Adam Brody and Vincent D'Onofrio in supporting roles . Cop Out is a 2010 American buddy cop action-comedy film directed and edited by Kevin Smith , written by Mark and Robb Cullen and starring Bruce Willis , Tracy Morgan , Kevin Pollak and Seann William Scott .\n",
      "Lemmy . He was known for his appearance ( including his friendly mutton chops ) , his distinctive gravelly voice and distinctive bass playing style .\n",
      "Girl ( stylized as G I R L ) is the second studio album by American singer and record producer Pharrell Williams .\n",
      "Kendall Nicole Jenner ( born November 3 , 1995 ) is an American fashion model and television personality .\n",
      "Janelle Monáe Robinson ( born December 1 , 1985 ) ( [ dʒəˈnɛl_moʊˈneɪ ] ) is an American singer , songwriter , actress , and model signed to her own imprint , Wondaland Arts Society , and Atlantic Records .\n",
      "Due Date . The film was shot in Las Cruces , New Mexico , Atlanta , Georgia , and Tuscaloosa , Alabama .\n",
      "Daryl Franklin Hohl ( born October 11 , 1946 ) , known professionally as Daryl Hall , is an American rock , R&B , and soul singer ; keyboardist , guitarist , songwriter , and producer , best known as the co-founder and lead vocalist of Hall & Oates ( with guitarist and songwriter John Oates ) . Don Hall is an American film director and writer at Walt Disney Animation Studios .\n"
     ]
    }
   ],
   "source": [
    "for i in range(100):\n",
    "    print(fever_plus[\"validation\"][i][\"premise\"])"
   ]
  },
  {
   "cell_type": "code",
   "execution_count": 51,
   "metadata": {},
   "outputs": [
    {
     "data": {
      "text/plain": [
       "[{'index': 0,\n",
       "  'text': 'The',\n",
       "  'pos': 'DET',\n",
       "  'lemma': 'the',\n",
       "  'bnSynsetId': 'O',\n",
       "  'wnSynsetOffset': 'O',\n",
       "  'nltkSynset': 'O'},\n",
       " {'index': 1,\n",
       "  'text': 'Challenge',\n",
       "  'pos': 'PROPN',\n",
       "  'lemma': 'Challenge',\n",
       "  'bnSynsetId': 'O',\n",
       "  'wnSynsetOffset': 'O',\n",
       "  'nltkSynset': 'O'},\n",
       " {'index': 2,\n",
       "  'text': 'was',\n",
       "  'pos': 'AUX',\n",
       "  'lemma': 'be',\n",
       "  'bnSynsetId': 'O',\n",
       "  'wnSynsetOffset': 'O',\n",
       "  'nltkSynset': 'O'},\n",
       " {'index': 3,\n",
       "  'text': 'a',\n",
       "  'pos': 'DET',\n",
       "  'lemma': 'a',\n",
       "  'bnSynsetId': 'O',\n",
       "  'wnSynsetOffset': 'O',\n",
       "  'nltkSynset': 'O'},\n",
       " {'index': 4,\n",
       "  'text': 'reality',\n",
       "  'pos': 'NOUN',\n",
       "  'lemma': 'reality',\n",
       "  'bnSynsetId': 'bn:00066419n',\n",
       "  'wnSynsetOffset': '13956097n',\n",
       "  'nltkSynset': 'reality.n.03'},\n",
       " {'index': 5,\n",
       "  'text': 'game',\n",
       "  'pos': 'NOUN',\n",
       "  'lemma': 'game',\n",
       "  'bnSynsetId': 'bn:00037183n',\n",
       "  'wnSynsetOffset': '2152991n',\n",
       "  'nltkSynset': 'game.n.04'},\n",
       " {'index': 6,\n",
       "  'text': 'show',\n",
       "  'pos': 'NOUN',\n",
       "  'lemma': 'show',\n",
       "  'bnSynsetId': 'bn:00071316n',\n",
       "  'wnSynsetOffset': '6619065n',\n",
       "  'nltkSynset': 'show.n.03'},\n",
       " {'index': 7,\n",
       "  'text': '.',\n",
       "  'pos': 'PUNCT',\n",
       "  'lemma': '.',\n",
       "  'bnSynsetId': 'O',\n",
       "  'wnSynsetOffset': 'O',\n",
       "  'nltkSynset': 'O'}]"
      ]
     },
     "execution_count": 51,
     "metadata": {},
     "output_type": "execute_result"
    }
   ],
   "source": [
    "fever_plus[\"train\"][90]['wsd']['hypothesis']"
   ]
  },
  {
   "cell_type": "code",
   "execution_count": 52,
   "metadata": {},
   "outputs": [
    {
     "name": "stdout",
     "output_type": "stream",
     "text": [
      "Python is a high-level, general-purpose programming language. Its design philosophy emphasizes code readability with the use of significant indentation.\n"
     ]
    },
    {
     "name": "stderr",
     "output_type": "stream",
     "text": [
      "[nltk_data] Downloading package punkt_tab to\n",
      "[nltk_data]     C:\\Users\\anon\\AppData\\Roaming\\nltk_data...\n",
      "[nltk_data]   Package punkt_tab is already up-to-date!\n"
     ]
    }
   ],
   "source": [
    "import wikipedia\n",
    "\n",
    "import nltk\n",
    "#nltk.download('punkt')\n",
    "nltk.download('punkt_tab')\n",
    "\n",
    "from nltk.tokenize import sent_tokenize\n",
    "\n",
    "# get the summary of the wikipedia page with \"page_title\"; returns an empty string if nothing is found until now\n",
    "def get_wikipedia_summary(page_title):\n",
    "    if not page_title:  # if passed a None for entry, return nothing\n",
    "        return ''\n",
    "    try:\n",
    "        summary = wikipedia.summary(page_title)\n",
    "        return summary\n",
    "    except wikipedia.DisambiguationError as e:\n",
    "        return ''     # f\"Disambiguation error: {e.options}\"\n",
    "    except wikipedia.PageError:\n",
    "        return ''     # f\"No page found for {page_title}\"\n",
    "\n",
    "# get N sentences from wikipedia summary or any text in general   \n",
    "def get_first_N_sentences(text, N):\n",
    "    sentences = sent_tokenize(text)\n",
    "    text_shortened = sentences[:N]\n",
    "    return ' '.join(text_shortened)\n",
    "\n",
    "\n",
    "# Example usage\n",
    "page_title = \"Python (programming language)\"\n",
    "summary = get_wikipedia_summary(page_title)\n",
    "summary = get_first_N_sentences(summary, SENTENCES_TO_KEEP)\n",
    "print(summary)\n"
   ]
  },
  {
   "cell_type": "code",
   "execution_count": 53,
   "metadata": {},
   "outputs": [],
   "source": [
    "# take the first PROPN words N-gram tagged (to be used to search wikipedia later)\n",
    "def retrieve_pag_to_search(annotated_sentence):   # remember to pass something like: fever_plus['train'][elem]\n",
    "\n",
    "    page_to_search = ''\n",
    "    last_was_PROPN = False\n",
    "\n",
    "    for word in annotated_sentence['wsd']['hypothesis']:  # search the sentence word by word...\n",
    "        if word['pos'] == 'PROPN':      # ...if a proper name is found, update the page to search...\n",
    "           page_to_search += ' ' + word['text']\n",
    "           last_was_PROPN = True\n",
    "        elif last_was_PROPN:            # ...else if not, stop the search beacuse the PROPN N-gram is finished\n",
    "            break\n",
    "\n",
    "    return page_to_search"
   ]
  },
  {
   "cell_type": "code",
   "execution_count": 54,
   "metadata": {},
   "outputs": [
    {
     "name": "stdout",
     "output_type": "stream",
     "text": [
      "<WikipediaPage 'Jaguar'>\n"
     ]
    }
   ],
   "source": [
    "import wikipedia\n",
    "from sklearn.metrics.pairwise import cosine_similarity\n",
    "from sklearn.feature_extraction.text import TfidfVectorizer\n",
    "\n",
    "def get_wikipedia_sense(word, sentence):\n",
    "    # Search for the word in Wikipedia\n",
    "    try:\n",
    "        search_results = wikipedia.search(word)\n",
    "    except wikipedia.WikipediaException:\n",
    "        return None  # Return None if there's an error during search\n",
    "\n",
    "    if not search_results:  # If no page entries are found\n",
    "        return None\n",
    "\n",
    "    # Create a TF-IDF vectorizer and fit it on the sentence and search results\n",
    "    vectorizer = TfidfVectorizer().fit_transform([sentence] + search_results)\n",
    "    vectors = vectorizer.toarray()\n",
    "    \n",
    "    # Compute cosine similarities between the sentence and the search results\n",
    "    cosine_similarities = cosine_similarity(vectors[0:1], vectors[1:]).flatten()\n",
    "    best_match_index = cosine_similarities.argmax()\n",
    "\n",
    "    # Obtain the best corresponding page if applicable, else None\n",
    "    try:\n",
    "        best_page_title = search_results[best_match_index]\n",
    "        best_page = wikipedia.page(best_page_title)\n",
    "        return best_page\n",
    "    except wikipedia.DisambiguationError as e:\n",
    "        # Handling disambiguation by checking if there are options\n",
    "        if e.options:\n",
    "            # Optionally, you can further refine this to select the most relevant option\n",
    "            for option in e.options:\n",
    "                try:\n",
    "                    option_page = wikipedia.page(option)\n",
    "                    return option_page\n",
    "                except wikipedia.WikipediaException:    # should be PageError, but to be sure skip the word if any error occur (I'm looking at you, 'Portugual' wiki entry)\n",
    "                    continue\n",
    "        return None\n",
    "    except wikipedia.PageError:\n",
    "        return None\n",
    "    except wikipedia.WikipediaException:\n",
    "        return None  # Handle other Wikipedia exceptions\n",
    "\n",
    "# Example of usage\n",
    "word = \"jaguar\"\n",
    "sentence = \"The jaguar is a large cat species and the only extant member of the genus Panthera native to the Americas.\"\n",
    "sense = get_wikipedia_sense(word, sentence)\n",
    "print(sense)\n"
   ]
  },
  {
   "cell_type": "code",
   "execution_count": 55,
   "metadata": {},
   "outputs": [
    {
     "name": "stderr",
     "output_type": "stream",
     "text": [
      "Augmenting Dataset: 100%|██████████| 2288/2288 [47:27<00:00,  1.24s/it]  \n"
     ]
    },
    {
     "name": "stdout",
     "output_type": "stream",
     "text": [
      "eval dataset done\n"
     ]
    },
    {
     "name": "stderr",
     "output_type": "stream",
     "text": [
      "Augmenting Dataset: 100%|██████████| 2287/2287 [25:59<00:00,  1.47it/s] "
     ]
    },
    {
     "name": "stdout",
     "output_type": "stream",
     "text": [
      "test dataset done\n"
     ]
    },
    {
     "name": "stderr",
     "output_type": "stream",
     "text": [
      "\n"
     ]
    }
   ],
   "source": [
    "\n",
    "#############################\n",
    "# FULL AUGMENT LOOP:        #\n",
    "# WIKIPEDIA REDUDANCY       #\n",
    "#############################\n",
    "\n",
    "from tqdm import tqdm\n",
    "# Suppress specific warnings\n",
    "import warnings\n",
    "warnings.filterwarnings(\"ignore\", category=UserWarning, module=\"wikipedia\")\n",
    "\n",
    "# Wikipedia Redudancy aumenter function for a single dataset\n",
    "def WR_augment(dataset, sentences_to_keep):\n",
    "  wr_list = []\n",
    "\n",
    "  for entry in tqdm(dataset, desc=\"Augmenting Dataset\"):\n",
    "      \n",
    "      page_to_search = retrieve_pag_to_search(entry)\n",
    "      disambiguated_page = get_wikipedia_sense(page_to_search, entry['premise'])\n",
    "      summary = get_first_N_sentences(get_wikipedia_summary(disambiguated_page), sentences_to_keep)\n",
    "      # print(summary)\n",
    "\n",
    "      # add entry to list if found, otherwise add ''\n",
    "      wr_list.append({\n",
    "                      'id' : entry['id'],\n",
    "                      'summary' : summary,\n",
    "                      'old_premise' : entry['premise'], \n",
    "                      'augmented_premise' : summary + ' ' + entry['premise'], \n",
    "                      'hypothesis': entry['hypothesis'], \n",
    "                      'label' : entry['label'], \n",
    "                      'wsd' : entry['wsd'], \n",
    "                      'srl' : entry['srl']\n",
    "                    })  \n",
    "\n",
    "  return wr_list\n",
    "\n",
    "\n",
    "\n",
    "wr_augmented_fever_train = []\n",
    "wr_augmented_fever_validation = []\n",
    "wr_augmented_fever_test = []\n",
    "\n",
    "# WR-Augmented datasets creation\n",
    "wr_augmented_fever_train = pd.DataFrame(WR_augment(fever_plus['train'], SENTENCES_TO_KEEP))\n",
    "print('train dataset done')\n",
    "wr_augmented_fever_validation = pd.DataFrame(WR_augment(fever_plus['validation'], SENTENCES_TO_KEEP))\n",
    "print('validation dataset done')\n",
    "wr_augmented_fever_test = pd.DataFrame(WR_augment(fever_plus['test'], SENTENCES_TO_KEEP))\n",
    "print('test dataset done')\n"
   ]
  },
  {
   "cell_type": "code",
   "execution_count": null,
   "metadata": {},
   "outputs": [],
   "source": [
    "# Write DataFrames to jsonl files\n",
    "wr_augmented_fever_train.to_json(OUTPUT_PATH + 'fever_train_wr.jsonl', orient='records', lines=True)\n",
    "wr_augmented_fever_validation.to_json(OUTPUT_PATH + 'fever_validation_wr.jsonl', orient='records', lines=True)\n",
    "wr_augmented_fever_test.to_json(OUTPUT_PATH + 'fever_test_wr.jsonl', orient='records', lines=True)\n",
    "print('output files created')"
   ]
  },
  {
   "cell_type": "code",
   "execution_count": 18,
   "metadata": {},
   "outputs": [],
   "source": [
    "# Due to huge dimension of train file (and possible the others) it is needed to compress them\n",
    "import zipfile\n",
    "\n",
    "def compress_file(file_name, zip_name, path):\n",
    "    # Create ZIP file in the specified output path\n",
    "    zip_path = path + zip_name\n",
    "    file_path = path + file_name\n",
    "    \n",
    "    with zipfile.ZipFile(zip_path, 'w') as zipf:\n",
    "        zipf.write(file_path, arcname=file_name, compress_type=zipfile.ZIP_DEFLATED)\n",
    "\n",
    "\n",
    "# Compress augmented datasets\n",
    "compress_file('fever_train_wr.jsonl', 'fever_train_wr.zip', OUTPUT_PATH)\n",
    "compress_file('fever_validation_wr.jsonl', 'fever_validation_wr.zip', OUTPUT_PATH)\n",
    "compress_file('fever_test_wr.jsonl', 'fever_test_wr.zip', OUTPUT_PATH)\n",
    "\n"
   ]
  }
 ],
 "metadata": {
  "kernelspec": {
   "display_name": "nlp_env2",
   "language": "python",
   "name": "python3"
  },
  "language_info": {
   "codemirror_mode": {
    "name": "ipython",
    "version": 3
   },
   "file_extension": ".py",
   "mimetype": "text/x-python",
   "name": "python",
   "nbconvert_exporter": "python",
   "pygments_lexer": "ipython3",
   "version": "3.12.4"
  }
 },
 "nbformat": 4,
 "nbformat_minor": 2
}
